{
 "cells": [
  {
   "cell_type": "markdown",
   "metadata": {},
   "source": [
    "# Named Entity Recognition with Spacy and OpenAI\n",
    "\n",
    "In this quick tutorial we will go over an example of how to use spacy's new LLM capabilities, where it leverages OpenAI to make NLP tasks super simple. Here we will focus on an NER task, which means we will specify entities in text that we want to extract, and try to identify those. You can find the documentation here:\n",
    "\n",
    " - [Spacy LLM Full Documentation](https://github.com/explosion/spacy-llm)\n",
    " - [Spacy LLM NER Documentation](https://github.com/explosion/spacy-llm/tree/main/usage_examples/ner_v3_openai)\n",
    "\n",
    "but we will go over a different example below, where we extract Superhero names and their gadgets and weapons from text."
   ]
  },
  {
   "cell_type": "markdown",
   "metadata": {},
   "source": [
    "## Getting Started\n",
    "\n",
    "First we need to import the necessary packages. The only noteworthy one is the spacy_llm package which you can install with `pip install spacy-llm`. Then create a .env file with your OpenAI API key."
   ]
  },
  {
   "cell_type": "code",
   "execution_count": 13,
   "metadata": {},
   "outputs": [],
   "source": [
    "import os\n",
    "from dotenv import load_dotenv\n",
    "from spacy_llm.util import assemble\n",
    "\n",
    "load_dotenv()\n",
    "\n",
    "openai_api_key = os.getenv('OPENAI_API_KEY')"
   ]
  },
  {
   "cell_type": "markdown",
   "metadata": {},
   "source": [
    "Now we can build our ner object with the assemble function"
   ]
  },
  {
   "cell_type": "code",
   "execution_count": 10,
   "metadata": {},
   "outputs": [],
   "source": [
    "ner = assemble(\"config.cfg\", overrides={\"paths.examples\": \"examples.json\"})"
   ]
  },
  {
   "cell_type": "markdown",
   "metadata": {},
   "source": [
    "The next steps are straightforward, but that's because a lot of the work is done in the config.cfg and examples.json files, so we'll go over them now."
   ]
  },
  {
   "cell_type": "markdown",
   "metadata": {},
   "source": [
    "## Config File\n",
    "\n",
    "Create a config.cfg file in the same directory. We have it here already so we'll print it out and you can copy and paste it. "
   ]
  },
  {
   "cell_type": "code",
   "execution_count": 19,
   "metadata": {},
   "outputs": [
    {
     "data": {
      "text/html": [
       "<div style=\"height: 400px; overflow: auto; border: 1px solid #ddd; padding: 10px;\"><pre>[paths]\n",
       "examples = null\n",
       "\n",
       "[nlp]\n",
       "lang = \"en\"\n",
       "pipeline = [\"llm\"]\n",
       "\n",
       "[components]\n",
       "\n",
       "[components.llm]\n",
       "factory = \"llm\"\n",
       "\n",
       "[components.llm.task]\n",
       "@llm_tasks = \"spacy.NER.v3\"\n",
       "labels = [\"SUPERHERO\", \"GADGET\", \"WEAPON\"]\n",
       "description = Entities are the names Superheroes,\n",
       "    their gadgets, and their weapons.\n",
       "    Adjectives, verbs, adverbs are not entities.\n",
       "    Pronouns are not entities.\n",
       "\n",
       "[components.llm.task.label_definitions]\n",
       "SUPERHERO = \"Known superheroes from comic books or movies, e.g. Batman, Superman, Wonder Woman, Spider-Man\"\n",
       "GADGET = \"Helpful tools that might be well known or associated with superheroes, e.g. Batman's Grapple Hook, Wonder Woman's Invisible Jet, Spider-Man's Web Wings.\"\n",
       "WEAPON = \"Any kind of item that is used as a weapon, e.g. Batman's Batarang, Spider-Man's Web Shooters, Wonder Woman's Tiara, \"\n",
       "\n",
       "[components.llm.task.examples]\n",
       "@misc = \"spacy.FewShotReader.v1\"\n",
       "path = \"${paths.examples}\"\n",
       "\n",
       "[components.llm.model]\n",
       "@llm_models = \"spacy.GPT-3-5.v3\"</pre></div>"
      ],
      "text/plain": [
       "<IPython.core.display.HTML object>"
      ]
     },
     "metadata": {},
     "output_type": "display_data"
    }
   ],
   "source": [
    "# Display the contents in a more readable manner with a scrollbar\n",
    "from IPython.display import display, HTML\n",
    "\n",
    "with open('config.cfg', 'r') as file:\n",
    "    config_contents = file.read()\n",
    "\n",
    "html_content = f'<div style=\"height: 400px; overflow: auto; border: 1px solid #ddd; padding: 10px;\"><pre>{config_contents}</pre></div>'\n",
    "display(HTML(html_content))"
   ]
  },
  {
   "cell_type": "markdown",
   "metadata": {},
   "source": [
    "There's only a few components that are important for our use case. The first is the [components.llm.task] part, where you need to define your labels or entities that you want to identify. Then give a short description on the general context of what you're looking for. \n",
    "\n",
    "Then in the [components.llm.task.label_definitions] component, you'll really give solid definitions of each label. You can come back and play around with these if your results aren't great, but I find being clear yet concise to work just fine.\n",
    "\n",
    "Finally, the [components.llm.model] where where you can try different versions of each OpenAI model. You can find the supported models available here: [Spacy LLM Models](https://spacy.io/api/large-language-models#models)."
   ]
  },
  {
   "cell_type": "markdown",
   "metadata": {},
   "source": [
    "## Examples File\n",
    "\n",
    "Next is the examples file. This is really important as this NER method relies on the few-shot technique and chain-of-thought reasoning, so you're examples could make or break your program. So to make this work create an examples.json file with your own examples. From the documentation, it mentions having negative examples improves performance, so consider that when making your own, and we'll show that here to.\n",
    "\n",
    "Instead of loading the examples.json file, below is a way to write it in a notebook and then create the file here, which might be more convenient. Note the `==NONE==` labels, which are to identify false examples. You will encounter a user warning later saying there's a label not recognized, but that's just due to this `==NONE==` label so you can safely ignore it."
   ]
  },
  {
   "cell_type": "code",
   "execution_count": 20,
   "metadata": {},
   "outputs": [],
   "source": [
    "data = [\n",
    "    {\n",
    "      \"text\": \"Batman can take on any villain thanks to his intellect in combination with his many tools in his utility belt.\",\n",
    "      \"spans\": [\n",
    "        {\n",
    "            \"text\": \"Batman\",\n",
    "            \"is_entity\": True,\n",
    "            \"label\": \"SUPERHERO\",\n",
    "            \"reason\": \"Batman is a popular superhero that originated from DC comic books\"\n",
    "        },\n",
    "        {\n",
    "          \"text\": \"intellect\",\n",
    "          \"is_entity\": False,\n",
    "          \"label\": \"==NONE==\",\n",
    "          \"reason\": \"is an attribute of Batman's character, but not exactly a weapon, nor a gadget\"\n",
    "        },\n",
    "        {\n",
    "          \"text\": \"Utility Belt\",\n",
    "          \"is_entity\": True,\n",
    "          \"label\": \"GADGET\",\n",
    "          \"reason\": \"is a gadget that is commonly associated with Batman\"\n",
    "        }\n",
    "      ]\n",
    "    },\n",
    "    {\n",
    "      \"text\": \"Even with Mjolnir and super strength, Thor could not beat Superman in a one-on-one fight during the Marvel and DC crossover comic book\",\n",
    "      \"spans\": [\n",
    "        {\n",
    "          \"text\": \"Mjolnir\",\n",
    "          \"is_entity\": True,\n",
    "          \"label\": \"WEAPON\",\n",
    "          \"reason\": \"is a popular weapon (hammer) that belongs to the Superhero Thor\"\n",
    "        },\n",
    "        {\n",
    "            \"text\": \"super strength\",\n",
    "            \"is_entity\": False,\n",
    "            \"label\": \"==NONE==\",\n",
    "            \"reason\": \"super strenth is a super power that belongs to many super heros, it is not specifically a weapon\"\n",
    "        },\n",
    "        {\n",
    "            \"text\": \"Thor\",\n",
    "            \"is_entity\": True,\n",
    "            \"label\": \"SUPERHERO\",\n",
    "            \"reason\": \"Thor is a popular superhero that originated from Marvel comic books, and Norse mythology before that\"\n",
    "        },\n",
    "        {\n",
    "            \"text\": \"Superman\",\n",
    "            \"is_entity\": True,\n",
    "            \"label\": \"SUPERHERO\",\n",
    "            \"reason\": \"Superman is a popular superhero that originated from DC comic books\"\n",
    "        }\n",
    "      ]\n",
    "    }\n",
    "  ]"
   ]
  },
  {
   "cell_type": "code",
   "execution_count": 22,
   "metadata": {},
   "outputs": [],
   "source": [
    "import json\n",
    "\n",
    "# Write to a JSON file\n",
    "with open('examples.json', 'w') as f:\n",
    "    json.dump(data, f, indent=4)"
   ]
  },
  {
   "cell_type": "markdown",
   "metadata": {},
   "source": [
    "## Identifying Entities\n",
    "\n",
    "With those files ready, now you can test it out. Remember we are using superheroes as our general topic, so our example text is: \"Both Superman and Wonder Woman lifted Mjolnir once before, because it was believed to be safe in Superman's hands so an exception was made, and Wonder Woman because she was actually worthy.\"\n",
    "\n",
    "From this, we'd expect to see entities Superman, Wonder Woman, and Mjolnir, with the labels SUPERHERO, SUPERHERO, and WEAPON, respectively."
   ]
  },
  {
   "cell_type": "code",
   "execution_count": 25,
   "metadata": {},
   "outputs": [],
   "source": [
    "example_text = \"Both Superman and Wonder Woman lifted Mjolnir once before, because it was \" \\\n",
    "               \"believed to be safe in Superman's hands so an exception was made, and \" \\\n",
    "               \"Wonder Woman because she was actually worthy.\"\n",
    "\n",
    "doc = ner(example_text)"
   ]
  },
  {
   "cell_type": "markdown",
   "metadata": {},
   "source": [
    "To get the entities with their labels, you need to iterate over doc.ents, which we do below with a list comprehension."
   ]
  },
  {
   "cell_type": "code",
   "execution_count": 24,
   "metadata": {},
   "outputs": [
    {
     "data": {
      "text/plain": [
       "[('Superman', 'SUPERHERO'),\n",
       " ('Wonder Woman', 'SUPERHERO'),\n",
       " ('Mjolnir', 'WEAPON')]"
      ]
     },
     "execution_count": 24,
     "metadata": {},
     "output_type": "execute_result"
    }
   ],
   "source": [
    "entities = [(ent.text, ent.label_) for ent in doc.ents]\n",
    "entities"
   ]
  },
  {
   "cell_type": "markdown",
   "metadata": {},
   "source": [
    "There we go! Works perfectly as expected. Now let's put it all together in a little function."
   ]
  },
  {
   "cell_type": "code",
   "execution_count": 27,
   "metadata": {},
   "outputs": [],
   "source": [
    "def extract_entities(text, config_file, examples_file):\n",
    "    #build our ner object using our configuration and examples\n",
    "    ner = assemble(config_file, overrides={\"paths.examples\": examples_file})\n",
    "\n",
    "    #input our text\n",
    "    doc = ner(text)\n",
    "\n",
    "    #get our extracted entities\n",
    "    entities = [(ent.text, ent.label_) for ent in doc.ents]\n",
    "\n",
    "    return entities"
   ]
  },
  {
   "cell_type": "markdown",
   "metadata": {},
   "source": [
    "Let's finish off with a few more examples, or rather a small dataset of text samples."
   ]
  },
  {
   "cell_type": "code",
   "execution_count": 42,
   "metadata": {},
   "outputs": [],
   "source": [
    "superhero_text_examples = [\n",
    "    \"Both Superman and Wonder Woman lifted Mjolnir once before, because it was \" \\\n",
    "    \"believed to be safe in Superman's hands so an exception was made, and \" \\\n",
    "    \"Wonder Woman because she was actually worthy.\",\n",
    "\n",
    "    \"Batman used his grappling hook to swing across the rooftops of Gotham City, \" \\\n",
    "    \"and then threw a batarang to disarm the Joker, who was wielding a crowbar.\",\n",
    "\n",
    "    \"The Flash used his super speed to rescue civilians from a burning building, \" \\\n",
    "    \"while Green Lantern created a protective barrier to contain the fire.\",\n",
    "]"
   ]
  },
  {
   "cell_type": "code",
   "execution_count": 43,
   "metadata": {},
   "outputs": [
    {
     "name": "stdout",
     "output_type": "stream",
     "text": [
      "[('Superman', 'SUPERHERO'), ('Wonder Woman', 'SUPERHERO'), ('Mjolnir', 'WEAPON')]\n",
      "[('Batman', 'SUPERHERO'), ('grappling hook', 'GADGET'), ('batarang', 'WEAPON'), ('crowbar', 'WEAPON')]\n",
      "[('The Flash', 'SUPERHERO'), ('Green Lantern', 'SUPERHERO')]\n"
     ]
    }
   ],
   "source": [
    "for superhero_text_sample in superhero_text_examples:\n",
    "    entities = extract_entities(superhero_text_sample, \"config.cfg\", \"examples.json\")\n",
    "    print(entities)"
   ]
  }
 ],
 "metadata": {
  "kernelspec": {
   "display_name": "TechKnow",
   "language": "python",
   "name": "python3"
  },
  "language_info": {
   "codemirror_mode": {
    "name": "ipython",
    "version": 3
   },
   "file_extension": ".py",
   "mimetype": "text/x-python",
   "name": "python",
   "nbconvert_exporter": "python",
   "pygments_lexer": "ipython3",
   "version": "3.10.14"
  }
 },
 "nbformat": 4,
 "nbformat_minor": 2
}
