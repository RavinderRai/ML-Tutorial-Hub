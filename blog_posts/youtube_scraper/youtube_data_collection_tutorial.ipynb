{
 "cells": [
  {
   "cell_type": "markdown",
   "metadata": {},
   "source": [
    "# YouTube Data Collection Tutorial\n",
    "\n",
    "In this post, we will cover a quick guide on how to collect closed caption text from YouTube videos. With a dataset of texts like this, you can do sentiment analysis, NER, and more. More specifically, possible use cases might be NER on products, sentiment analysis from YouTube reviews, or text summarization from longer videos or podcasts.\n",
    "\n",
    "## Getting Started\n",
    "\n",
    "To get started, you will need to set up a GCP account and enable the YouTube API. Don't worry, this is completely free. Next install the youtube_transcript_api and googleapiclient packages. Then we can import our packages. Here are some helpful links:\n",
    "\n",
    " - [Link to GCP](https://www.googleadservices.com/pagead/aclk?sa=L&ai=DChcSEwja_5Wc-MCHAxXVNAgFHc9-BYUYABAAGgJtZA&co=1&gclid=CjwKCAjwzIK1BhAuEiwAHQmU3vk5uqNzHfodDgbSC_hrHwJQhVCTfaCFSc9_aJuobJzORCHHnbZjYRoC9KgQAvD_BwE&ohost=www.google.com&cid=CAESV-D2BvCv4Vg-5POaQmkHNct-fRrsasCKE_3oE-T523U2gB3MG2AU0qvCxqv7JrYuWQySy9gwCQMqspjBwHAGDclsNeD0IS3C8GpA1ZYiDBDhGo80UZsN1A&sig=AOD64_3WT4PhRUoMkElbjsYKflW_g5dIaQ&q&adurl&ved=2ahUKEwjf9JCc-MCHAxWFnokEHQorDj8Q0Qx6BAgQEAE)\n",
    " - [Link to youtube_transcript_api](https://pypi.org/project/youtube-transcript-api/)\n",
    " - [Link to googleapiclient](https://pypi.org/project/google-api-python-client/)"
   ]
  },
  {
   "cell_type": "code",
   "execution_count": 2,
   "metadata": {},
   "outputs": [],
   "source": [
    "# all the packages we will need\n",
    "import os\n",
    "from dotenv import load_dotenv\n",
    "from youtube_transcript_api import YouTubeTranscriptApi\n",
    "from googleapiclient.discovery import build"
   ]
  },
  {
   "cell_type": "markdown",
   "metadata": {},
   "source": [
    "Next you'll need your GCP key. You can just paste it here, or create a .env file in the same directory and put it in there - up to you."
   ]
  },
  {
   "cell_type": "code",
   "execution_count": 3,
   "metadata": {},
   "outputs": [],
   "source": [
    "load_dotenv()\n",
    "youtube_api_key = os.getenv('GCP_YOUTUBE_API_KEY')"
   ]
  },
  {
   "cell_type": "markdown",
   "metadata": {},
   "source": [
    "## Fetching Closed Captions Text\n",
    "\n",
    "Now let's get to the YouTube API part. First we'll use the imported build function which let's us create an object to interact with specified Google APIs. Obviously we will put YouTube in as an arguement. We'll then use version 3 alongside your API key."
   ]
  },
  {
   "cell_type": "code",
   "execution_count": 4,
   "metadata": {},
   "outputs": [],
   "source": [
    "youtube = build('youtube', 'v3', developerKey=youtube_api_key)"
   ]
  },
  {
   "cell_type": "markdown",
   "metadata": {},
   "source": [
    "To use this youtube object, you'll actualy send in a query, as if you're searching youtube from the search bar as you normally would. We'll actually get the number of top results from this search query, where max_results will specify the exact number of results to get. Also, we'll set it to only search for videos (no playlists, channels, etc.), and also get the id and snippet (snippet contains info like title, description, etc.)."
   ]
  },
  {
   "cell_type": "code",
   "execution_count": 5,
   "metadata": {},
   "outputs": [],
   "source": [
    "search_query = \"Top video games of 2023\"\n",
    "max_results = 5\n",
    "\n",
    "search_response = youtube.search().list(\n",
    "    q=search_query,\n",
    "    type='video',\n",
    "    part='id, snippet',\n",
    "    maxResults=max_results\n",
    ").execute()"
   ]
  },
  {
   "cell_type": "markdown",
   "metadata": {},
   "source": [
    "Now let's explore when this result is. Naturally, it is a list of 5 items, 1 for each result (since we set max results to 5). So let's just look at the first item in the list."
   ]
  },
  {
   "cell_type": "code",
   "execution_count": 6,
   "metadata": {},
   "outputs": [
    {
     "data": {
      "text/plain": [
       "{'kind': 'youtube#searchResult',\n",
       " 'etag': 'cAWTfIz-k4IQLn33ru7_-03bFE8',\n",
       " 'id': {'kind': 'youtube#video', 'videoId': 'sXnoQdA6cYM'},\n",
       " 'snippet': {'publishedAt': '2023-11-23T00:00:32Z',\n",
       "  'channelId': 'UCaWd5_7JhbQBe4dknZhsHJg',\n",
       "  'title': 'Top 10 Best Video Games of 2023',\n",
       "  'description': \"2023 has been another great year for video games! Welcome to WatchMojo, and today we're counting down our picks for the ...\",\n",
       "  'thumbnails': {'default': {'url': 'https://i.ytimg.com/vi/sXnoQdA6cYM/default.jpg',\n",
       "    'width': 120,\n",
       "    'height': 90},\n",
       "   'medium': {'url': 'https://i.ytimg.com/vi/sXnoQdA6cYM/mqdefault.jpg',\n",
       "    'width': 320,\n",
       "    'height': 180},\n",
       "   'high': {'url': 'https://i.ytimg.com/vi/sXnoQdA6cYM/hqdefault.jpg',\n",
       "    'width': 480,\n",
       "    'height': 360}},\n",
       "  'channelTitle': 'WatchMojo.com',\n",
       "  'liveBroadcastContent': 'none',\n",
       "  'publishTime': '2023-11-23T00:00:32Z'}}"
      ]
     },
     "execution_count": 6,
     "metadata": {},
     "output_type": "execute_result"
    }
   ],
   "source": [
    "search_response_ex = search_response.get('items', [])[0]\n",
    "search_response_ex"
   ]
  },
  {
   "cell_type": "markdown",
   "metadata": {},
   "source": [
    "So we have lot's of information here, and for your own purposes you can take whatever you need, but this tutorial is about getting the cc text. This means that the `id` is what we need, and more specifically, the `videoId` item inside this dictionary."
   ]
  },
  {
   "cell_type": "code",
   "execution_count": 7,
   "metadata": {},
   "outputs": [
    {
     "data": {
      "text/plain": [
       "'sXnoQdA6cYM'"
      ]
     },
     "execution_count": 7,
     "metadata": {},
     "output_type": "execute_result"
    }
   ],
   "source": [
    "video_id_ex = search_response_ex['id']['videoId']\n",
    "video_id_ex"
   ]
  },
  {
   "cell_type": "markdown",
   "metadata": {},
   "source": [
    "Now that we have the videoId we can use the `YouTubeTranscriptApi` function to get the cc text as follows."
   ]
  },
  {
   "cell_type": "code",
   "execution_count": 8,
   "metadata": {},
   "outputs": [
    {
     "data": {
      "text/plain": [
       "[{'text': 'link you must find me welcome to watch',\n",
       "  'start': 0.839,\n",
       "  'duration': 6.241},\n",
       " {'text': \"Mojo and today we're counting down our\",\n",
       "  'start': 4.52,\n",
       "  'duration': 4.56},\n",
       " {'text': 'picks for the greatest video games to be',\n",
       "  'start': 7.08,\n",
       "  'duration': 4.88},\n",
       " {'text': 'released over the past year still angry',\n",
       "  'start': 9.08,\n",
       "  'duration': 4.84},\n",
       " {'text': 'after all these years Marco you should',\n",
       "  'start': 11.96,\n",
       "  'duration': 3.52}]"
      ]
     },
     "execution_count": 8,
     "metadata": {},
     "output_type": "execute_result"
    }
   ],
   "source": [
    "transcript_ex = YouTubeTranscriptApi.get_transcript(video_id_ex)\n",
    "transcript_ex[0:5] # this list is long, so just showing the first 5 elements to see what it's like"
   ]
  },
  {
   "cell_type": "markdown",
   "metadata": {},
   "source": [
    "This json output might not be what you expected, but the function breaks up the cc text and couples it with the start time and duration. The use case here might be to help with subtitle generation, indexing, or analytics. In any case, we can easily put it back together though by concatenating everything."
   ]
  },
  {
   "cell_type": "code",
   "execution_count": 9,
   "metadata": {},
   "outputs": [
    {
     "data": {
      "text/plain": [
       "\"link you must find me welcome to watch Mojo and today we're counting down our picks for the greatest video games to be released over the past year still angry after all these years Marco you should try yoga number 10 armored Core 6 fires of Rubicon you've got them now you can always count on fromsoft resurrecting their other long-standing friend armored Core promised giant robots shooting the beesus out of each other and will be damned if they didn't deliver in Spades he's the amount of customization The Thrill of the firefights the Absurd scope of its mechanical bosses it's certainly a trial by fire that will test your patience and willingness to change loadouts on the fly but it's still a blast to play once again proving that from software are so much more than just all things Souls born Retreat open the partition Number Nine Star Wars Jedi [Music] Survivor while it certainly had a rough start there's no denying that calus's second outing was a worthy followup to Fallen ORD fantastic foundation with a narrative that dove into Cal's desperation against the empire a massive Hub world and a total refinement of lightsaber combat slicing through Stormtroopers has never been so much fun where they go from here is up in the air but we're all secretly hoping we'll get the chance to further explore C's willingness to embrace the dark side moving forward also rest in peace to Rick the door technician what a [Music] Legend Number Eight high-fi Rush this thing came out of nowhere and blew everyone away on arrival one of the most successful Shadow drops in gaming history high-fi Rush was the perfect marriage of Devil May Cry and an anime a rhythm game one populated with banging tracks a slick animation design and a hilarious cast that will keep you constantly entertained as you riff your way through colorful stages is that a weapon uh I don't think so I think he's resisting wait what even if you're toned deaf and can't keep a beat to save your life the fun chai and others bring to the table is too good to pass up huh uh number seven Final Fantasy 16 Focus wyv you are key to this mission's success Yoshi P just does not miss taking the Beloved lore giant monsters and World building the franchise is famous for and containing it within a framework akin to A Song of Ice and Fire the result turned out to be a final fantasy like no other while a few found the switch to full-on action too much of a leap from the series turn-based Roots Clive's story of Vengeance nonetheless reached New Heights in terms of what a Final Fantasy game can offer whether they be quiet moments of of character exploration or cinematic boss battles that might just be some of modern Gaming's best all the while soen continues to prove how much of a God he is with a soundtrack that can proudly stand up there with umam Matsu's Classics it's forit number six Allan Wake 2 he can't see me in the light you think you know meta you think you know just how outside the box a game can be well hold on to your Brites because Sam lake is here to show you that you've seen nothing [Music] yet not only is this sequel everything fans of the original could want in terms of its own brand of survival horror but remedy have crafted a game that breaks down nearly every convention ition when it comes to blending genres reaching well past the fourth wall and Incorporated live action in the wildest of ways it's one hell of a mind trip that needs to be experienced if only for that dance sequence man I must not surrender number five Spider-Man [Music] 2 we really didn't think insomnia could it off but once again they outdid themselves with what just might be the best Spider-Man to date swinging across New York has never felt better with traversal polished to Perfection same with combat allowing for downright brutal combinations as both Spider-Man can utilize their own unique move sets as for its story pacing issues aside the combination of Craven's last hunt the rise of Venom Peter's fracturing relationships as well as miles identity crisis all lend themselves to an explosion of emotional payoffs that had us reeling we can't wait for the closing chapter to round out the trilogy let's just hope they scrap miles Adidas costume by that point can't let it singe me again number four Super Mario Brothers [Music] Wonder so exciting for those wondering if Mario's 2D Glory days were long behind him have no fear because this return to form is downright spectacular the creativity in each level is on spiring the amount of Collectibles and challenges will have you constantly diving back in while the new W seed mechanic changes everything up by altering the environment into a fever dream that Mario has to navigate to reach the goal it's a brilliant platformer and potentially the start of the Plumber's second Renaissance in the 2D [Music] scene number three Resident Evil 4 not bad right while the remake of Resident Evil 2 catapulted Capcom back on top what they did with their reimagining of the fourth Mainline entry has cemented them as the king of modern gaming taking such a pinnacle title and sprucing up the graphics is one thing but to remake it into one of the best survival horror games of the last century is something else please do continue graphically it's incredible the gameplay is beyond satisfying while the new mechanics such as pairing seamlessly slide into place and yes Leon and his hair have never looked more dazzling it's everything you could want in an re game and is an absolute must playay for hardcore fans and newcomers alike number two The Legend of Zelda tears of the [Music] Kingdom breath of the wild was a landmark event in gaming and one that sent Lincoln his franchise soaring to new heights so how could a sequel match the impact of the original by doubling down on what made it great and adding features that we didn't know we needed Hyrule has never been so vast with the sky islands and depths now adding verticality to the exploration while the ability to fuse and create Transportation along with the means to torture cororo adds another layer to player agency and Imagination the sheer density of what is on offer here has made it the jewel in Nintendo's crown and that's no small feet [Music] before we reveal our number one pick here are a few honorable mentions dredge sea of stars Street Fighter 6 Dave the [Music] diver Starfield before we continue be sure to subscribe to our Channel and ring the bell to get notified about our latest videos you have the option to be notified for occasional videos or all of them if you're on your phone make sure to go into your settings and switch on notifications number one balers Gate 3 laran Studios didn't just create a great fantasy RPG they created the fantasy RPG using the lore and tabletop system of Dungeons and Dragons as a Bedrock they crafted a game so intricately layered that it's honestly mindboggling the sheer amount of choices and customization on display here is ungodly with branching paths for literally every encounter and every class they are as numerous as they are intricate rewarding and painstakingly thought out listen you look like you know how to handle yourself you should meet my associates words truly can't do justice to what's on offer here the narrative will have you gripped the characters and their respective performances are god tier and above all else it will have you wishing to dive even deeper into its beautifully maob World either alone or with friends in Co-op now if you'll excuse us we have to go start up our dark urge playthroughs which of this year's entries do you consider the true goat let us know in the comments did you enjoy this video check out these other clips from watch Mojo and be sure to subscribe and ring the bell to be notified about our latest videos\""
      ]
     },
     "execution_count": 9,
     "metadata": {},
     "output_type": "execute_result"
    }
   ],
   "source": [
    "#set it to be an empty string\n",
    "cc_text_ex = \"\"\n",
    "\n",
    "#add each piece iteratively but with a space in between each element\n",
    "for entry in transcript_ex:\n",
    "    cc_text_ex += ' ' + entry['text']\n",
    "\n",
    "#also let's remove new lines just in case\n",
    "cc_text_ex.replace('\\n', ' ')\n",
    "\n",
    "#the above method results in an empty space as the first character, just removing it here\n",
    "cc_text_ex = cc_text_ex[1:]\n",
    "cc_text_ex"
   ]
  },
  {
   "cell_type": "markdown",
   "metadata": {},
   "source": [
    "There, that's it! We have our cc_text, but let's put this into a function."
   ]
  },
  {
   "cell_type": "code",
   "execution_count": 10,
   "metadata": {},
   "outputs": [],
   "source": [
    "def fetch_captions(video_id):\n",
    "    \"\"\"\n",
    "    Get the closed captions. \n",
    "\n",
    "    Parameters:\n",
    "    - video_id (str): The video id which is obtained in search_videos.\n",
    "    \n",
    "    Returns:\n",
    "    String: Closed caption text of a youtube video\n",
    "    \"\"\"\n",
    "    try:\n",
    "        # Retrieve the transcript for the video\n",
    "        transcript = YouTubeTranscriptApi.get_transcript(video_id)\n",
    "\n",
    "        cc_text = \"\"\n",
    "\n",
    "        # Concatenate the transcript text\n",
    "        for entry in transcript:\n",
    "            cc_text += ' ' + entry['text']\n",
    "            \n",
    "        cc_text = cc_text.replace('\\n', ' ')\n",
    "        return cc_text[1:]\n",
    "\n",
    "    except Exception as e:\n",
    "        print(f\"An error occurred: {str(e)}\")\n",
    "        return f\"An error occurred: {str(e)}\""
   ]
  },
  {
   "cell_type": "markdown",
   "metadata": {},
   "source": [
    "## Collecting a Full Dataset\n",
    "\n",
    "We can go a step further still. Let's build a function to collect a dataset of most relevant information you might want from a youtube video. You can edit this to get what you like, but we'll just get the `video_id`, `title`, `channel_title`, `video_link`, and `cc_text`."
   ]
  },
  {
   "cell_type": "code",
   "execution_count": 11,
   "metadata": {},
   "outputs": [
    {
     "name": "stdout",
     "output_type": "stream",
     "text": [
      "sXnoQdA6cYM\n",
      "Top 10 Best Video Games of 2023\n",
      "https://www.youtube.com/watch?v=sXnoQdA6cYM\n",
      "WatchMojo.com\n"
     ]
    }
   ],
   "source": [
    "video_id_ex = search_response_ex['id']['videoId']\n",
    "title_ex = search_response_ex['snippet']['title']\n",
    "video_link_ex = f'https://www.youtube.com/watch?v={video_id_ex}'\n",
    "channel_title_ex = search_response_ex['snippet']['channelTitle']\n",
    "cc_text_ex = fetch_captions(video_id_ex)\n",
    "\n",
    "#excluding printing the cc_text here since we already saw it\n",
    "for item in [video_id_ex, title_ex, video_link_ex, channel_title_ex]:\n",
    "    print(item)"
   ]
  },
  {
   "cell_type": "markdown",
   "metadata": {},
   "source": [
    "Now we can iterate over each item in our search results to get our full dataset."
   ]
  },
  {
   "cell_type": "code",
   "execution_count": 12,
   "metadata": {},
   "outputs": [
    {
     "data": {
      "text/plain": [
       "[{'video_id': 'sXnoQdA6cYM',\n",
       "  'title': 'Top 10 Best Video Games of 2023',\n",
       "  'video_link': 'https://www.youtube.com/watch?v=sXnoQdA6cYM',\n",
       "  'channel_name': 'WatchMojo.com',\n",
       "  'cc_text': \"link you must find me welcome to watch Mojo and today we're counting down our picks for the greatest video games to be released over the past year still angry after all these years Marco you should try yoga number 10 armored Core 6 fires of Rubicon you've got them now you can always count on fromsoft resurrecting their other long-standing friend armored Core promised giant robots shooting the beesus out of each other and will be damned if they didn't deliver in Spades he's the amount of customization The Thrill of the firefights the Absurd scope of its mechanical bosses it's certainly a trial by fire that will test your patience and willingness to change loadouts on the fly but it's still a blast to play once again proving that from software are so much more than just all things Souls born Retreat open the partition Number Nine Star Wars Jedi [Music] Survivor while it certainly had a rough start there's no denying that calus's second outing was a worthy followup to Fallen ORD fantastic foundation with a narrative that dove into Cal's desperation against the empire a massive Hub world and a total refinement of lightsaber combat slicing through Stormtroopers has never been so much fun where they go from here is up in the air but we're all secretly hoping we'll get the chance to further explore C's willingness to embrace the dark side moving forward also rest in peace to Rick the door technician what a [Music] Legend Number Eight high-fi Rush this thing came out of nowhere and blew everyone away on arrival one of the most successful Shadow drops in gaming history high-fi Rush was the perfect marriage of Devil May Cry and an anime a rhythm game one populated with banging tracks a slick animation design and a hilarious cast that will keep you constantly entertained as you riff your way through colorful stages is that a weapon uh I don't think so I think he's resisting wait what even if you're toned deaf and can't keep a beat to save your life the fun chai and others bring to the table is too good to pass up huh uh number seven Final Fantasy 16 Focus wyv you are key to this mission's success Yoshi P just does not miss taking the Beloved lore giant monsters and World building the franchise is famous for and containing it within a framework akin to A Song of Ice and Fire the result turned out to be a final fantasy like no other while a few found the switch to full-on action too much of a leap from the series turn-based Roots Clive's story of Vengeance nonetheless reached New Heights in terms of what a Final Fantasy game can offer whether they be quiet moments of of character exploration or cinematic boss battles that might just be some of modern Gaming's best all the while soen continues to prove how much of a God he is with a soundtrack that can proudly stand up there with umam Matsu's Classics it's forit number six Allan Wake 2 he can't see me in the light you think you know meta you think you know just how outside the box a game can be well hold on to your Brites because Sam lake is here to show you that you've seen nothing [Music] yet not only is this sequel everything fans of the original could want in terms of its own brand of survival horror but remedy have crafted a game that breaks down nearly every convention ition when it comes to blending genres reaching well past the fourth wall and Incorporated live action in the wildest of ways it's one hell of a mind trip that needs to be experienced if only for that dance sequence man I must not surrender number five Spider-Man [Music] 2 we really didn't think insomnia could it off but once again they outdid themselves with what just might be the best Spider-Man to date swinging across New York has never felt better with traversal polished to Perfection same with combat allowing for downright brutal combinations as both Spider-Man can utilize their own unique move sets as for its story pacing issues aside the combination of Craven's last hunt the rise of Venom Peter's fracturing relationships as well as miles identity crisis all lend themselves to an explosion of emotional payoffs that had us reeling we can't wait for the closing chapter to round out the trilogy let's just hope they scrap miles Adidas costume by that point can't let it singe me again number four Super Mario Brothers [Music] Wonder so exciting for those wondering if Mario's 2D Glory days were long behind him have no fear because this return to form is downright spectacular the creativity in each level is on spiring the amount of Collectibles and challenges will have you constantly diving back in while the new W seed mechanic changes everything up by altering the environment into a fever dream that Mario has to navigate to reach the goal it's a brilliant platformer and potentially the start of the Plumber's second Renaissance in the 2D [Music] scene number three Resident Evil 4 not bad right while the remake of Resident Evil 2 catapulted Capcom back on top what they did with their reimagining of the fourth Mainline entry has cemented them as the king of modern gaming taking such a pinnacle title and sprucing up the graphics is one thing but to remake it into one of the best survival horror games of the last century is something else please do continue graphically it's incredible the gameplay is beyond satisfying while the new mechanics such as pairing seamlessly slide into place and yes Leon and his hair have never looked more dazzling it's everything you could want in an re game and is an absolute must playay for hardcore fans and newcomers alike number two The Legend of Zelda tears of the [Music] Kingdom breath of the wild was a landmark event in gaming and one that sent Lincoln his franchise soaring to new heights so how could a sequel match the impact of the original by doubling down on what made it great and adding features that we didn't know we needed Hyrule has never been so vast with the sky islands and depths now adding verticality to the exploration while the ability to fuse and create Transportation along with the means to torture cororo adds another layer to player agency and Imagination the sheer density of what is on offer here has made it the jewel in Nintendo's crown and that's no small feet [Music] before we reveal our number one pick here are a few honorable mentions dredge sea of stars Street Fighter 6 Dave the [Music] diver Starfield before we continue be sure to subscribe to our Channel and ring the bell to get notified about our latest videos you have the option to be notified for occasional videos or all of them if you're on your phone make sure to go into your settings and switch on notifications number one balers Gate 3 laran Studios didn't just create a great fantasy RPG they created the fantasy RPG using the lore and tabletop system of Dungeons and Dragons as a Bedrock they crafted a game so intricately layered that it's honestly mindboggling the sheer amount of choices and customization on display here is ungodly with branching paths for literally every encounter and every class they are as numerous as they are intricate rewarding and painstakingly thought out listen you look like you know how to handle yourself you should meet my associates words truly can't do justice to what's on offer here the narrative will have you gripped the characters and their respective performances are god tier and above all else it will have you wishing to dive even deeper into its beautifully maob World either alone or with friends in Co-op now if you'll excuse us we have to go start up our dark urge playthroughs which of this year's entries do you consider the true goat let us know in the comments did you enjoy this video check out these other clips from watch Mojo and be sure to subscribe and ring the bell to be notified about our latest videos\"},\n",
       " {'video_id': '99kjo-MKmvU',\n",
       "  'title': 'BEST GAMES OF 2023',\n",
       "  'video_link': 'https://www.youtube.com/watch?v=sXnoQdA6cYM',\n",
       "  'channel_name': 'gameranx',\n",
       "  'cc_text': '(ambient music) - Hey folks, it\\'s me, Jake Baldino, and no video game shirt today. We are all business here to talk about the Game of the Year Awards for 2023. Our picks, the Gameranx staff choices for Game of the Year. Don\\'t shoot the messenger. I say it every single year, it has been a good year for games. It\\'s kind of like a running meme at this point with this show. But this year has been really good. There are too many games to fit on any list if you ask me. The amount of like, just games that are somewhat considered great by most people are too numerous to the point like there is not enough time in the world to play all of them. So it has been a good year. Unfortunately, a lot of game development studios and places around game development have faced layoffs, as well as many other industries all throughout the world in 2023. So the game industry still has plenty to figure out, but judging by the quality of games we\\'ve played this year, the train keeps rolling and there\\'s hopefully a lot more to be seen. But the way we\\'re doing it this year, in past years, we\\'ve done kind of like bigger, flashier videos. But ultimately what we do here most of the time is put out a video every day and talk about games with you guys. So, that\\'s what we\\'re doing here. Nothing crazy. But we changed up a little bit how it works this year. We came up with some more interesting categories. You know, some of the standard ones, but we tried to think outside the box a little bit. Also, again, these are not just my choices but the rest of the crew behind the scenes on the Gameranx video team. We\\'re gonna have each category have a winner and a runner up. So we wanna talk as many games as possible, so let\\'s get started off with our first little award or whatever you wanna call it. Our choice for best music in a 2023 game. And believe it or not, the Gameranx choice was \"Hi-Fi Rush\" from audio director Shuichi Kobori and the rest of their team. This game has a lot from the actual score to the game. The licensed songs in this game, a ton of great tracks including like from Nine Inch Nails. There\\'s so much to enjoy in this game. We haven\\'t really frankly talked about it enough, but the music really seals the deal. The runner up though is no slouch by any means, especially for me personal. The runner up is \"Final Fantasy XVI.\" The main composer, Masayoshi Soken, and the rest of the team have developed some incredible battle music here. Still, I remember playing \"Final Fantasy XVI\" on that first boss battle and just hearing that theme. It is still seared into my brain and that to me is successful video game music. Just over the top, awesome shit. Next up we have a category where the answer is pretty obvious, but we think more awards shows should have this category. Where are my horror game fans at? Horror people. This is best horror game of 2023. There were a couple of things to pick from, but ultimately, our winner, our choice is \"Alan Wake II.\" \"Alan Wake II\" goes full in on survival horror and has plenty of scares. It\\'s got a lot of jump scares, of course, but then it also has really good mood and atmosphere and tension that just builds upon things. And the fact that you have all these different environments like a real spooky woods, a saga, and the haunted noir New York, twisted world of \"Alan Wake.\" There are scares and scary vibes around every corner and it absolutely works. The runner up, believe it or not, is something out of left field \\'cause we have no rules here. It\\'s \"Phasmophobia.\" \"Phasmophobia\" is not a game from 2023, but some of the people on the crew here really enjoyed playing through some of the newer updates this year. It\\'s a really good co-op ghost hunting game. So if you\\'ve never checked it out, there you go. Next up we have a new category we came up with, it\\'s called best customization. Just games that let you get into the settings and really tinker. Not necessarily like accessibility settings, but actual in-game customizations like your character layouts, stuff like that. So the winner for best customization is \"Armored Core VI: Fires of Rubicon.\" The Gameranx team has really just enjoyed the fact that like you build out your bot so highly specifically in how important it is to go out and win the really difficult battles. It just nails that sense of going to the garage and fine tuning and making the coolest robot. It\\'s what a lot of us wanted here behind the scenes and we\\'re happy that FromSoftware delivered. Surprise, surprise, FromSoftware crushed it. But the runner up for best customization is \"Lies of P.\" Something that you might not think has like the deepest level of customization compared to a \"Souls\" game. You\\'re not building out completely different character builds like a magic build or anything like that. But just the amount of things you can dump into your items, your customizable arm. The way the weapon customization system works with like the hilt and the blade, it just felt really good. Even if it wasn\\'t the most in depth, we just really liked how the systems worked. Next up we got something like, I just like playing games for stories and adventure and this is the best story category. Just a game where we will really whisk away on the adventure of the story, what have you. And Gameranx\\'s pick for that is \"Alan Wake II.\" Again, we already mentioned \"Alan Wake II\" and we just really like Remedy games. We gave a lot of awards to \"Control\" when that released. But \"Alan Wake II\\'s\" story is really impressive with how it weaves the two characters\\' tales together and goes in and out of dimensions while also managing to be weird and super Remedy and experiment with different types of mediums and how they tell the story just made it interesting to play through. And we were just looking for something memorable at the end of the day and that absolutely worked for us. But no slouch to the runner up, it\\'s \"Spider-Man 2.\" Insomniac \"Spider-Man 2\" told another great Spider-Man story. It had a really good craven, a pretty badass venom, lots of like surprise moments and good fan service moments for fans of the old comic books like myself. But also a story that still didn\\'t lose sight of like what they did with the last \"Spider-Man\" game. It had emotion, it had characters with arcs and depth and it was just interesting to see play out. Next up we had another category we came up with, it\\'s called the Not Enough Love Award. A lot of games this year have come out and have been absolutely great, but just haven\\'t really gotten mentioned much. Just kind of fell out of the conversation. Like \"Wo Long: Fallen Dynasty,\" \"Hogwarts Legacy,\" \"Atomic Heart\" released in the beginning of the year and had some respectable elements, but ultimately they kind of fell out of the conversation. So for this category, we wanted to highlight stuff like that. So after a lot of deliberation for us, the Not Enough Love Award actually goes to \"El Paso, Elsewhere.\" This is a game I\\'ve talked a little bit here on the channel. We all really liked it behind the scenes. It\\'s kind of like a \"Max Payne\" inspired game. Like it\\'s almost got like very blocky PS1, PS2 graphics and a really good mood and atmosphere. But the gameplay is third person running and gunning and bullet time diving in slow motion and plays and feels a lot like the original \"Max Payne.\" Although this time around you\\'re shooting like vampires and werewolves and weird creatures and there\\'s some really great music, some great art direction, and some scenery chewing noir dialogue with some great voice acting. It is an incredibly simple game, mind you. It is a smaller, more independent game, but it\\'s awesome. It totally lived up to our expectations. Just an indie game really going after that \"Max Payne 1\" feel. But the runner up for the Not Enough Love Awards is actually \"Bayonetta Origins: Cereza and the Lost Demon.\" This is one that seemingly came and went, but everybody who played it, specifically some of the gang here at Gameranx just really enjoyed it. Just a different take on Bayonetta, totally different gameplay style, but just something that they found enjoyable to play through. Next up is an old fashioned category, totally works, it\\'s best multiplayer. And the winner is, no, it\\'s not \"Fortnite.\" I\\'m just kidding. Don\\'t look at me like that. Don\\'t make a face. No, our best pick for multiplayer this year is \"Diablo IV.\" For all its faults and it\\'s ups and downs, right now \"Diablo IV\" is feeling pretty good. But regardless of when you play it, playing through with a friend and just killing stuff and building up your characters is an undeniably good time. That\\'s really the long and short of it, man. The runner up actually with some tense arguing behind the scenes. The runner up comes between \"Street Fighter VI\" and \"Baldur\\'s Gate 3,\" specifically because like the \"Baldur\\'s Gate 3\" co-op is some powerfully awesome stuff. Next up, another weird category we came up with. It\\'s best vibes in a game. So just a game you play to chill out. It doesn\\'t necessarily have to be the most challenging. It just has to have some interesting mechanics, some cool music. You know, just a little bit more of a relaxing play. Not like you\\'re trying to get kill streaks in \"Call of Duty\" or max out your character in \"Dark Souls.\" Nah, just a game you\\'re playing just to like hang out before you go to bed. And the winner for that is \"Jusant.\" I believe that\\'s how you say it. This is Don\\'t Nod\\'s newest game centered around climbing with an incredible art style and just a really good thing going here. It only just released. A lot of us who did get our hands on it, immediately it left a good impression on. So don\\'t miss that. But also the runner up for this is something a little bit more upbeat, but still great vibes. It\\'s \"Bomb Rush Cyberfunk.\" This is one, admittedly, we haven\\'t talked about enough on the channel, but it released as a spiritual successor to the Jet Set Games and mission accomplished there. Next up is best indie game. Now, in terms of the studio size and like who\\'s publishing it and stuff like that, I know there\\'s like debate around that but we don\\'t make the rules. I don\\'t know, just games that have like an indie feel, a smaller team behind it, whatever, man. The winner is \"Cocoon.\" This is a really trippy, good puzzler game with kind of like world shifting mechanics if you haven\\'t heard about it. It\\'s crushing on Steam. It\\'s like overwhelmingly positive. It\\'s published by Annapurna. It\\'s got really good presentation aspects to it. It\\'s something you should consider checking out. But the runner up for best indie is \"Dredge.\" We really love \"Dredge.\" It\\'s a game where you just drive around on a boat and you go out in the water and it\\'s like fishing mini games and shit like that and an inventory system that you have to manage that\\'s kind of like \"Resident Evil 4\\'s\" classic inventory, and it\\'s incredibly addictive, but also has an interesting story and through line and mysteries in the water. There\\'s some challenge to it. It\\'s a game that we didn\\'t expect to really care too much about, but once you play it, you get hooked. Hooked. You see what I did there? Hooked like fishing. I\\'m so funny. - Come on, are you- - I\\'m trying to be funny. - Are you serious? - I\\'m trying to let- - Come on. - Next up, another category we were messing around with. We call this category best game that isn\\'t a sequel. We just wanted something, we wanted to highlight and reward something new that just came out. It\\'s its own thing and, yeah, that\\'s really it. So the winner for this one is \"Lies of P.\" We love \"Lies of P.\" I mean we\\'re also- - Yeah. - We\\'re also so guilty here of just liking FromSoft style games and those Soulsborne style games. And \"Lies of P\" really nails the whole concept of a dark and gritty bloodborne-esque Pinocchio. It\\'s got great boss battles. Like we talked about earlier, some cool character building, music, atmosphere, everything really. It\\'s totally what we wanted and, yeah. But the runner up for best game that isn\\'t a sequel is \"Cocoon,\" also running away with another award. So again, maybe consider putting that on your radar. Next up we have a category called best remake or remaster. We made a category because there\\'s just so many remakes and remasters every year. So it made sense. So the winner this time around is the \"Resident Evil 4\" remake. Not a big surprise, but it\\'s great. They nailed it in a lot of ways. But I wanna point out that our runner up winner is the \"Dead Space\" remake, which I consider to be a little bit of a different thing. So it\\'s like you have the \"Resident Evil 4\" remake, which kind of remixes things, puts new spin on things, but is faithful. And then you have the \"Dead Space\" remake, which kind of plays it safe and only changes things up where it really, really makes sense in little ways and fine tunes things, but ultimately still is great. So either way, we consider them both a win-win and yeah, that\\'s it. We still want more original games, but at least when they\\'re remaking some games, they\\'re not screwing them up. Next up we have an award for best handheld because believe it or not, a lot of handhelds released this year. New color waves for the Analogue. A lot of handheld PC stuff. So our winner for best handheld is, I mean you know we\\'re biased. We really like the device. It\\'s the Steam Deck. Valve Steam Deck just released the OLED version and it\\'s a great device. It\\'s updated in a lot of ways. Some ways that you actually might not realize at first, but it\\'s a little bit, like a little tiny bit more efficient. It\\'s got a better battery life. The screen absolutely kicks ass, the menus are snappier. It\\'s just a worthwhile upgrade. It\\'s not a Steam Deck 2, but it\\'s a really, really good revision. But believe it or not, the runner up, it was tight, but it ultimately goes out to the Lenovo Legion Go. This is more recently released, but Juan, behind the scenes, specifically really died on a sword for this one. He likes it more than the ASUS ROG Ally. It\\'s got a great battery, a good stand. The detachable controllers work really well. It\\'s just an interesting device. Next up, we\\'re talking most anticipated. The thing that we\\'re looking forward to next year. So we all deliberated, we got together, and our pick ultimately for most anticipated is \"Final Fantasy VII Rebirth.\" We really just wanna see where this one goes. \"Final Fantasy\" remake was awesome, but we\\'re excited to see them just take it to the next level in a lot of ways without spoiling anything. I don\\'t know if I could spoil that yet. I don\\' know what the deal is. But, yeah. Plus like if you\\'re just talking about the old \"Final Fantasy VII,\" like the original, like they\\'re getting to the point where they can do a lot more cool stuff. Anyway, I digress. The runner up for most anticipated is \"Star Wars Outlaws.\" This is the open world Ubisoft \"Star Wars\" game. Now we\\'ve been burned by Ubisoft games before, but some of the people working on this one behind the scenes and what we\\'ve seen so far is shaping up to just be something cool. A little bit different. Something in \"Star Wars\" that isn\\'t just centered around lightsabers. It\\'s always nice and worth checking out. So we\\'re really, really hoping that they nail it with this one. Last, but certainly not least, and don\\'t yell at me, don\\'t get mad at me, don\\'t shoot the messenger. It\\'s our Game of the Year Award. Our best game of 2023. The winner is \"Baldur\\'s Gate 3.\" Surprise surprise. Honestly, like we\\'re recording this video kind of early, but I expect this to win a lot of awards specifically because, like it is not like everybody\\'s just conspiring to make it win. It\\'s because a lot of the RPG stuff here is really impressive. The decision making, the branching storylines, the character choices, all that stuff just really works. I was amazed. I said it in the before you buy back when it came out. The amount of things you can throw at this game to try and mess it up and how everything is written and everything is considered and it keeps throwing things back at you is just really fun. I know the the turn-based gameplay isn\\'t for everybody. I see it in comments, but I\\'d still consider pushing through it because even if you just like games, like more BioWare, like a mass effects style game, there is so much of that type of stuff. So you should push through the turn based stuff. Regardless, it\\'s great. The co-op is great. It\\'s lengthy. It is really everything you want from an RPG. I know that sounds like a lot, but we mean it here. And believe it or not, the runner up for best game of 2023 is \"The Legend of Zelda: Tears of the Kingdom\" It\\'s just a bigger, better, crazier Zelda game with so much more to do, so much more to mess around with. You can dump tons of hours into this game with just all the questing and exploration. Not to mention all the weird stuff you could get into. Where\\'s Zelda gonna go from here? I have no idea. I mean, they\\'re making a movie. So there\\'s that. But yeah, that\\'s our Game of the Year 2023 list. Those are our picks for the best games of 2023. Chances are there\\'s something we missed. Me personally, I wanted to just talk more about the \"RoboCop\" game, but they wouldn\\'t let me. So that\\'s how it goes. There\\'s not enough time to talk about everything. So we wanna hear from you guys in the comments, your own game of the year list. Maybe you have a top two. Maybe you\\'ve only played two games. Maybe you have a top five. Maybe you have a top 10. Who knows? Just let us know because it\\'s great for us to see, but also other people in the comments looking for recommendations for more games \\'cause that\\'s ultimately the bottom line of what we\\'re doing here, right? So thank you guys for a great year from all of us here at Gameranx. Watching literally puts food on our table. So we can\\'t thank you guys enough for that. We\\'ve been doing this for a long time now, but I never really do this on screen, so I\\'m about to do it. Have a great and happy and safe holiday season wherever you are in the world. Cheers. Pizza\\'s on me. I\\'m Jake Baldino. - [Cameraman] Did you really not get me a slice? - Oh.'}]"
      ]
     },
     "execution_count": 12,
     "metadata": {},
     "output_type": "execute_result"
    }
   ],
   "source": [
    "search_query_results = search_response.get('items', [])\n",
    "\n",
    "videos_data = []\n",
    "for item in search_query_results:\n",
    "    video_id = item['id']['videoId']\n",
    "    title= item['snippet']['title']\n",
    "    video_link = f'https://www.youtube.com/watch?v={video_id_ex}'\n",
    "    channel_title = item['snippet']['channelTitle']\n",
    "    cc_text = fetch_captions(video_id)\n",
    "\n",
    "    videos_data.append({\n",
    "        'video_id': video_id,\n",
    "        'title': title,\n",
    "        'video_link': video_link,\n",
    "        'channel_name': channel_title,\n",
    "        'cc_text': cc_text\n",
    "    })\n",
    "\n",
    "#just showing the first couple of resulting items\n",
    "videos_data[0:2]"
   ]
  },
  {
   "cell_type": "markdown",
   "metadata": {},
   "source": [
    "And that's it, now you can make this into a dataset if you like, or edit it to get some other info as needed. As a bonus, let's turn this into a class.\n",
    "\n",
    "## Bonus: YouTube Data Retriever Class\n",
    "\n",
    "Before we create this class, I want to add one little thing: something I found useful was filtering youtube videos via their titles. So say you are searching for reviews of a product, like the latest MacBook Pro. Well you want reviews of just that video, but sometimes there might be videos in your query results that are comparison reviews, of the latest version against an older one. You can easily filter these out by disregarding videos with certain strings in their title, in this case \"vs\" is what you would ignore.  \n",
    "\n",
    "Let's run through an example with the search query `Surface Laptop 7 Review`."
   ]
  },
  {
   "cell_type": "code",
   "execution_count": 13,
   "metadata": {},
   "outputs": [],
   "source": [
    "search_query = \"Surface Laptop 7 Review\"\n",
    "max_results = 12\n",
    "\n",
    "search_response = youtube.search().list(\n",
    "    q=search_query,\n",
    "    type='video',\n",
    "    part='id, snippet',\n",
    "    maxResults=max_results\n",
    ").execute()\n",
    "\n",
    "search_query_results = search_response.get('items', [])"
   ]
  },
  {
   "cell_type": "markdown",
   "metadata": {},
   "source": [
    "Let's check to see if there's any comparison reviews."
   ]
  },
  {
   "cell_type": "code",
   "execution_count": 14,
   "metadata": {},
   "outputs": [
    {
     "name": "stdout",
     "output_type": "stream",
     "text": [
      "Surface Laptop 7 X Elite Honest Review after 2 Weeks!\n",
      "Surface Laptop 7: Don’t Buy the WORST Model!\n",
      "Microsoft Surface Laptop 7 15 Inch Review\n",
      "Surface Laptop 7 vs MacBook Air M3 - The ULTIMATE Battle\n",
      "Surface Pro 11 vs Surface Laptop 7 Review &amp; Comparison\n",
      "ARMed &amp; Ready; but Not for All... Surface Laptop 7 Review\n",
      "Switching to Surface Laptop 7 From A MacBook User - The BEST &amp; WORST Parts\n",
      "1 month later: Surface Laptop 7 with Snapdragon X Elite\n",
      "Surface Pro 8 i7 Gaming - Once Human\n",
      "Surface Laptop 7 After 1 Week: Growing Pains!\n",
      "Surface Laptop 7 After 1 Week - Should Apple Worry!?\n",
      "Surface Laptop 7 Review: The New Daily Driver!\n"
     ]
    }
   ],
   "source": [
    "for item in search_query_results:\n",
    "    title = item['snippet']['title']\n",
    "    print(title)"
   ]
  },
  {
   "cell_type": "markdown",
   "metadata": {},
   "source": [
    "Indeed, you can this it in the title: `Surface Pro 11 vs Surface Laptop 7 Review &amp; Comparison`, which has both the vs and comparison words in it. So we can filter for this."
   ]
  },
  {
   "cell_type": "code",
   "execution_count": 15,
   "metadata": {},
   "outputs": [],
   "source": [
    "#filter for variations of vs since it is case sensitive, we'll leave comparison out for now\n",
    "filtered_strings = [\"VS\", \"vs\", \"Vs\"]\n",
    "\n",
    "videos_data = []\n",
    "for item in search_query_results:\n",
    "    video_id = item['id']['videoId']\n",
    "    title= item['snippet']['title']\n",
    "    video_link = f'https://www.youtube.com/watch?v={video_id}'\n",
    "    channel_title = item['snippet']['channelTitle']\n",
    "\n",
    "    if not any(s in title for s in filtered_strings):\n",
    "        #this function takes time to run so make sure not to use it, \n",
    "        #or anything with a lengthy runtime, before the filter \n",
    "        cc_text = fetch_captions(video_id)\n",
    "\n",
    "        videos_data.append({\n",
    "            'video_id': video_id,\n",
    "            'title': title,\n",
    "            'video_link': video_link,\n",
    "            'channel_name': channel_title,\n",
    "            'cc_text': cc_text\n",
    "        })"
   ]
  },
  {
   "cell_type": "code",
   "execution_count": 16,
   "metadata": {},
   "outputs": [
    {
     "name": "stdout",
     "output_type": "stream",
     "text": [
      "Surface Laptop 7 X Elite Honest Review after 2 Weeks!\n",
      "Surface Laptop 7: Don’t Buy the WORST Model!\n",
      "Microsoft Surface Laptop 7 15 Inch Review\n",
      "ARMed &amp; Ready; but Not for All... Surface Laptop 7 Review\n",
      "Switching to Surface Laptop 7 From A MacBook User - The BEST &amp; WORST Parts\n",
      "1 month later: Surface Laptop 7 with Snapdragon X Elite\n",
      "Surface Pro 8 i7 Gaming - Once Human\n",
      "Surface Laptop 7 After 1 Week: Growing Pains!\n",
      "Surface Laptop 7 After 1 Week - Should Apple Worry!?\n",
      "Surface Laptop 7 Review: The New Daily Driver!\n"
     ]
    }
   ],
   "source": [
    "for vid in videos_data:\n",
    "    print(vid[\"title\"])"
   ]
  },
  {
   "cell_type": "markdown",
   "metadata": {},
   "source": [
    "And there we have it, a simple filter for your consideration, should you use this function. Below is the class with all of the above implemented within it. You'll likely want to add some functions to it, but feel free to steal and modify as needed!"
   ]
  },
  {
   "cell_type": "code",
   "execution_count": 17,
   "metadata": {},
   "outputs": [],
   "source": [
    "class YouTubeAPIData:    \n",
    "    def __init__(self, api_key):\n",
    "        self.api_key = api_key\n",
    "        self.youtube = build('youtube', 'v3', developerKey=api_key)\n",
    "        \n",
    "    def fetch_youtube_data(self, search_query, filtered_strings=[], max_results=5):\n",
    "        \"\"\"\n",
    "        Search for YouTube videos based on a given query and retrieve additional information including closed captions.\n",
    "\n",
    "        Parameters:\n",
    "        - search_query (str): The search query used to find relevant videos on YouTube.\n",
    "        - filtered_strings (list): Strings to filter video results by i needed. Defaults to an empty list. \n",
    "        - max_results (int): The maximum number of videos to retrieve. Defaults to 5.\n",
    "\n",
    "        Returns:\n",
    "        List[dict]: A list of dictionaries, each containing information about a video, including:\n",
    "            - 'video_id' (str): The unique identifier for the video.\n",
    "            - 'title' (str): The title of the video.\n",
    "            - 'video_link' (str): The YouTube link to the video.\n",
    "            - 'channel_name' (str): The name of the channel that uploaded the video.\n",
    "            - 'cc_text' (str): The closed captions text for the video.\n",
    "\n",
    "        Note:\n",
    "        - The 'cc_text' field may contain an empty string if closed captions are not available. Mend that as needed.\n",
    "        \"\"\"       \n",
    "        \n",
    "        search_response = self.youtube.search().list(\n",
    "            q=search_query,\n",
    "            type='video',\n",
    "            part='id, snippet',\n",
    "            maxResults=max_results\n",
    "        ).execute()\n",
    "        \n",
    "        videos_data = []\n",
    "        for result in search_response.get('items', []):\n",
    "            video_id = result['id']['videoId']\n",
    "            title = result['snippet']['title']\n",
    "            video_link = f'https://www.youtube.com/watch?v={video_id}'\n",
    "            channel_name = result['snippet']['channelTitle']\n",
    "\n",
    "            # Check and remove unwanted titles\n",
    "            if not any(s in title for s in filtered_strings):\n",
    "                cc_text = self.fetch_captions(video_id)\n",
    "                videos_data.append({\n",
    "                    'video_id': video_id,\n",
    "                    'title': title,\n",
    "                    'video_link': video_link,\n",
    "                    'channel_name': channel_name,\n",
    "                    'cc_text': cc_text\n",
    "                })\n",
    "\n",
    "        return videos_data\n",
    "    \n",
    "    def fetch_captions(self, video_id):\n",
    "        \"\"\"\n",
    "        Get the closed captions. \n",
    "\n",
    "        Parameters:\n",
    "        - video_id (str): The video id which is obtained in search_videos.\n",
    "        \n",
    "        Returns:\n",
    "        String: Closed caption text of a youtube video\n",
    "        \"\"\"\n",
    "        try:\n",
    "            # Retrieve the transcript for the video\n",
    "            transcript = YouTubeTranscriptApi.get_transcript(video_id)\n",
    "\n",
    "            cc_text = \"\"\n",
    "\n",
    "            # Concatenate the transcript text\n",
    "            for entry in transcript:\n",
    "                cc_text += ' ' + entry['text']\n",
    "                \n",
    "            cc_text = cc_text.replace('\\n', ' ')\n",
    "            return cc_text\n",
    "\n",
    "        except Exception as e:\n",
    "            print(f\"An error occurred: {str(e)}\")\n",
    "            return f\"An error occurred: {str(e)}\"\n"
   ]
  },
  {
   "cell_type": "code",
   "execution_count": 39,
   "metadata": {},
   "outputs": [
    {
     "data": {
      "text/plain": [
       "[{'video_id': '_BFF-arkGWY',\n",
       "  'title': 'Surface Laptop 7 X Elite Honest Review after 2 Weeks!',\n",
       "  'video_link': 'https://www.youtube.com/watch?v=_BFF-arkGWY',\n",
       "  'channel_name': 'Max Tech',\n",
       "  'cc_text': \" I've been testing and using the new Surface laptop 7 with qualcomm's X Elite chip for the past 2 weeks now and I have to say that it is my favorite X Elite laptop and it's not perfect but I love it so I'm going to tell you guys about the downsides as well as everything that surprised me and what you should do if you want to buy one of these now the first thing that I have to say what really shocked me right when I started using it is how responsive it is I have never felt a Windows computer be so Snappy just opening up programs unzipping files getting into the web browser it is so quick just like one of Apple's Apple silicon MacBooks and just like those Macs I have to say that this is practically Windows alternative and they knocked it out of the park for the overall experience compared to previous Intel laptops and the previous qualcom versions that kind of sucked because of Windows running so terribly now I'll talk about performance in just a second and what kind of blew my mind with that but let me talk about the overall experience because I did like the previous surface laptops but this takes it to a whole another level just a few days ago before I did my review I had to get the surface laptop 6 that actually came out this year but it included an Intel chip inside with the older body of the surface laptops and having those side by side kind of blew my mind because if you're not familiar with those well this thing has been upgraded in so many different ways the display had a huge upgrade the bezels the thickness every single thing has gotten better um let me start out with the keyboard it feels fantastic fantastic large Keys great feedback I really like it and with that we don't have a fingerprint scanner but Windows hello is so good to use it catches you at a wide angle I love it and even though the trackpads were okay before their were diving board designs they changed it to a magnetic one with perfectly even click super responsive very accurate outside of a Macbook this is the best track P that you can get it has a nice large size it is awesome I love that it got thinner that it got lighter and of course that you have a magnetic charger once again making it be like a Macbook uh so that is great and that they added another USB type-c port which is USB 4 on the left hand side these are some awesome upgrades and then talking about the speakers which you cannot see here well they sound really good for a thin and light laptop pretty much matching the M3 MacBook Air go ahead and take a listen take mewhere [Music] [Music] un now while the higher MacBooks do sound better this is great for a Windows laptop now before I tell you what really surprised me I want to share a free browser based productivity app called magical our sponsor for today's video magical is a free productivity extension that uses AI to automate repetitive tasks saving me 7 hours of work every week it automates data entry messaging and more by learning how you work for example magicals automation feature can grab info from web pages and fill out into a spreadsheet or form making data entry seamless you can use it for job applications filing patient forms updating your CRM tracking marketing campaigns and so much more there is a use case for everyone the templates feature lets you use shortcuts to quickly expand text you can create templates for frequent emails your email address or shipping address to save time magical also has AI reply which can reply to entire emails in seconds is designed to save you time so you can enjoy things like watching Tech videos check out magical to boost your productivity and save tons of time it is completely free I'll go ahead and leave a link in the description below now back to the video now the 1080p webcam is pretty nice it actually has a really wide angle view the sharpness isn't that high but there is very little noise and what surprised me the most about it is that it does a great job focusing in on my my voice in rejecting background sounds we have a loud HVAC system here so we always denoise our audio I have an ice machine running in the background and right now you are just hearing my voice the mics do a great job now getting into the display it is also really nice for a Windows laptop and that really got to me when I looked at the surface laptop 6 which is the same as the previous ones it is so much brighter the viewing angles are so much better and at 600 nits when you're watching HDR the brights really pop it looks really good now there is one issue with it and it's the fact that the screen is pretty reflective so when you compare it to a Mac even one that has a lower brightness like the M1 that you could buy for $ 699 the contrast looks quite a bit better on those and I think one reason why is the fact that it has a touch screen you have to have that touch layer on top and that hurts it so if you like to touch your display well that's a benefit but if you're not going to do that like I don't do you know you get a lot of that reflectivity now another major positive is that this is a 120 htz screen and it is dynamic so it goes all the way down to 24 Hertz to save battery life it can match your content I mean this is a nice screen overall and that gets me into battery life this is one of the biggest things where we were waiting for with the X Elite chip to get much better battery life than the Intel systems now even though online they did say that it beats out MacBooks um if you're just playing back video it does but when you're actually using it daytoday doing some productivity tasks it doesn't really match up in real world use now in our tests it had 32% left after we ran all of them while the M3 air had 50% so I would say even this is more than enough for most people you'll go through a full day without issues and um the Killer part is that you don't actually take a massive performance hit when you're on battery like we had with older systems and with those older Intel systems the battery life was not great so when we compare them the surface laptop 6 actually ended up dying before we finished our test while the ex Elite version actually had 40% battery remaining so that's around 67% better at battery life and with that one thing I noticed was a massive difference in fan noise the Intel system would crank up its fans sometimes when you're just opening up the web browser or installing something just basic tasks where this stay silent like a Macbook and even Under full load it is not very loud so once again this is the MacBook of Windows laptops and and that is a great thing and now let's go ahead and get into performance because here it also did pretty good this is not the highest skew of um the X Elite we actually did a different comparison but one thing where it stands out compared to the other systems we've tested is on battery the performance is pretty much the same it could beat out some other systems where where the manufacturer decides to throttle it down just for better battery life and I am so happy that did this I'm also happy that the ssds are really fast they're actually faster than the M3 MacBook airs and the cool thing is the SSD is actually replaceable in here unlike a Macbook so for 80 bucks you can pick up a one tab SSD or for 140 bucks a 2 terabyte and that gives you a killer value if you're willing to open up the four little screws and replace it yourself which is is really easy to do now looking at the X Elite Performance it does a good job in single core performance it doesn't beat out the M3 yet alone the M4 but it is good and that's why it is so Snappy and then looking at multicore score the performance is killer at least in geekbench 6 it beats out more expensive MacBooks on battery power and that is excellent and then getting into tougher tasks it still does a really really good job now one thing that we found that was really kind of weird with these systems is that if you're maxing out the CPU well it actually doesn't stay at 100% the whole chip starts downclocking and you're roughly at 75% CPU usage maxed out and that is just because of the wattage that they preset these at um also because they don't want them to get loud and we do have 12 performance cores which is weird because uh the max have four performance cores and four efficiency um Intel's chips that are going to come out end of this year also do the same but because these are all performance cores you need to run a lot of power to them but in this case it seems like they're just downclocked or under volted voltage uh chips but the whole thing is working out now as far as the CPU it does a really good job even in programs where they're not yet optimized or recoded for arm it still did a good job in terms of performance and then ones that are well it beats out Apple's M3 so overall performance is very impressive in terms of the CPU now where we run into some issues is the actual graphics performance because the graphics that's built into this well it's basically the Snapdragon 8 Gen 2 graphics just a little overclocked compared to a phone that doesn't have fan cooling so it's actually quite old in this brand new system so if you're doing tasks that need a lot of Graphics well the performance really really drops the same thing goes for the encoders that are built in so if you're doing video editing you're exporting the speed is not great compared to apple systems even the M1 ends up beating it out in Da Vinci resolve 19 even though that's one of the programs that is designed for arm and just got released um so it's just limited by those encoders um compared to apple which is better even years ago uh but on the plus side compared to the Intel version that came out this year it still beat that out so it depends what you're trying to compare to um but our main consensus is if you're buying this system for web use web applications watching videos CPUs good battery life it is excellent if you need to have a Windows system but if you need good graphics performance that is where you do not want to pick up one of these systems because even Intel is actually more powerful I do want to point out that as time goes more programs will get optimized so the nice thing is performance should get better if you're using applications that are not optimized but even now it's still working pretty well so that's just one thing that you should note now if you want to buy one of these laptops the re my recommendation for you guys would be to look at the version with the uh X+ chip you can buy one for 999 bucks with 256 GB and on the plus side you still get 16 gigs of RAM as base Apple please take note of this that is awesome that they're doing that compared to apple and the cool thing is even though you get 256 for $9.99 for 80 bucks you can pick up that one terabyte and swap it out yourself self which you can't do on a Mac and then you have a killer value so if you don't need all this CPU performance well you can save yourself some a good amount of money and you'll get even better battery life because you have less course and they run slightly slower so the battery life will be even better so for $9.99 this is um windows and snapdragons qualcomm's mac Apple silicon moment that we had for 4 years ago it's just happening right now and you have a lot of nice upgrades as well so out of all of the ex Elite laptops if you're picking one up this is our current recommendation for an overall system where the whole package is really nice I highly recommend it I'm going to recommend it to friends and family that need to run Windows it is a great machine and you will not be disappointed so thank you guys for watching if you guys want to see some of our comparisons check him out right over there click that Circle above to subscribe this has been Max and I'll see you in the next one [Music] [Music]\"},\n",
       " {'video_id': '1l6xqZexZVg',\n",
       "  'title': 'Surface Laptop 7: Don’t Buy the WORST Model!',\n",
       "  'video_link': 'https://www.youtube.com/watch?v=1l6xqZexZVg',\n",
       "  'channel_name': 'Just Josh',\n",
       "  'cc_text': \" if you're planning to buy the surface laptop 7 don't buy the wrong model we are neurotic laptop enthusiasts here so we bought all three of them with the cheaper 13in with X+ the 13-in with X Elite and the 15in with X Elite there is no 15-in model with X+ by the way anyway we did find something pretty interesting and since I value your time I'm not going to make you watch the whole thing to find out it turns out the 13in with the ex Elite processor which is the one that we've seen reviewed the most and is the one that we assumed is best is probably proba the worst one to buy it's a trap it costs several hundred more than the X+ for minimal extra performance and worse battery life in fact if you want an xl8 processor in a surface laptop you really have to buy the 15-in version to unleash that extra performance now if you want to know our full thoughts on all aspects of these surface laptop 7s that's in our comparison video with the MacBook airs we'll link that one down below and if you're not sure which Snapdragon laptop you should buy we have a big Roundup coming so get subscribed as that video is going to be published soon this video is really to highlight which surface laptop you should buy if that's the laptop you're going for let's talk performance to keep our comparisons Fair each model is equipped with the same 16 gig of memory the X+ has 10 CPU cores the X Elite has two additional cores and it can run its cores faster let's start with geekbench which tests a variety of common performance tasks both the 13-in and 15-in laptops with X Elites perform very well and almost identically ahead of the X Plus version and competing laptops with Intel processors but this is far from the full story let's switch to Cent bench which tests the laptops when their processors are maxed out you can see that the 13-in surface with X Elite performs only marginally better than the X+ version and quite a bit behind the 15-in surface with the same processor this is because the 15-in feeds its processor more power which is likely due to its improved cooling solution as it is a larger laptop in fact the 15-in version even comes with a larger 65 watt charger both the 13-in surfaces come with a smaller 39 W one since Hardware info does not work on these new arm laptops yet we measured power draw from the wall we then subtracted 7 Watts for the rest of the laptop we came to that number by looking at the Delta of CPU package power to power drawer from the wall for similar laptops and if you've noticed that our math does not add up it is because our surface's 39 W charger actually pulls 41 when we look at performance while on battery it is good news for the surface laptop 15 the extra power fed to its processor and required by its larger display is negated by its larger battery that's why when running cinven on a loop for 30 minutes all these laptops ended up having around the same battery remaining however when we switch gears to Casual use you can see a difference there is a cost of putting the more powerful and power hungry X Elite processor in the smaller 13-in laptop you lose a good amount of battery those extra 2 CPU cores of its XLE processor require power this is a reason to get the 13-in version of the X+ instead now when it comes to heat you feel all three laptops felt around the same in light and heavy use that is they remain very cool for light tasks but the moment you run anything that requires performance they feel noticeably warm even something as simple as a conference call will make these laptops heat up when it comes to Fan noise again all three of them were around the same quiet for light use and around 45 DB for performance tasks this is noticeable but not overly loud as far as laptops fans go for graphics they all have the same integrated graphics and no surprises they ended up performing around the same that also goes for their mpus so if you're interested in graphics or AI you could again just save money and buy the 13in version with the X+ and on that note let's talk pricing as configured the 13in X Plus is $1,200 the X Elite is $200 more at 1,400 and the 15in with X Elite is 1,500 overall given what we've just shown you we feel that the 13-in X Elite model it makes the sense especially when you consider the ideal users for these laptops people doing light tasks like office applications web browsing as well as some of what I'd call mid-level Performance tasks like programming a react website in these tasks you're unlikely to notice the difference between the X+ and the X Elite and since the X+ costs $200 less and lasts longer on battery we think that's the one that most people should buy if you do want a higher performing surface laptop we recommend just skipping over the 13in X Elite and buying the 15in in instead finally I do want to say one closing thought given that we have three of these laptops in we did notice some build quality differences our surface laptop 13 with X Elite it did not sit completely flat on our desk and our 13-in with X+ was an ever so slightly lighter blue than the X Elite unit and I didn't think it looked quite as good as mentioned if you are wondering what we think of the rest of the surface laptop 7 it is in our surface vers MacBook Air Video which I've linked below overall whether you're shopping for yourself or someone else make sure to to check out our website that's where you'll find all the laptops that we recommend for various types of users and where to go to get the best deals on them till next time go do something awesome with your day and I will catch you later\"},\n",
       " {'video_id': '8PTexfv50e4',\n",
       "  'title': 'Microsoft Surface Laptop 7 15 Inch Review',\n",
       "  'video_link': 'https://www.youtube.com/watch?v=8PTexfv50e4',\n",
       "  'channel_name': 'Alex Kidman',\n",
       "  'cc_text': \" [Music] Hey there Alex Kidman here with my quick video review of the Microsoft Surface laptop 7 so this is the co-pilot plus version of the surface laptop running on arm I've been testing it out over the last few weeks and well it's been an interesting time let's get into the review so from a design perspective well look Microsoft rather specifically pitched the surface laptop 7 as something of a MacBook Air killer back when it launched the range and while it's not the only arm-based Windows machine you can buy right now as the standard Bearer it's kind of interesting to see a design that is frankly rather MacBook Aires available in either a 13.8 in or as I've got here a 15in iteration the service laptop 7th edition is a nicely business-like machine from the outside very little wrong with it I think with a simple Square Microsoft reflective logo placed on top of the system opening it up reveals a full keyboard with because this is a co-pilot system a dedicated co-pilot key on the keyboard keyboard performance is actually quite good with nice key travel the trackpad is likewise quite nice I had really no complaints there although I've got to be honest I would probably plug a mouse into this thing anyway but that's just a personal Quirk I guess the surface laptop 7 supports biometric unlocking via Windows hello through its 1080p webcam located at the top of the display screen and look my own experiences with Windows hello have been rather mixed over the years but for the surface laptop 7 for the first time I have no complaints it's genuinely recognize me quickly without issue during my review period in terms of ports the surface laptop 7 comes with dual USB c a single USB a type port a combination microphone headphone jack and a surface connect charging port if you opt for the 15-in model which is what I've got in for review you also get a Micro SD card slot now that feels to me like an interesting choice I'm not really sure why they didn't opt for full-size SD card cuz obviously if you've got micro SD you've probably got one or more of those little adapters sitting around anyway just feels like that might have been a bit more flexible to me I'm not really sure what the logic was there in terms of color choices the surface laptop 7 chips in SA which is blue June which is sort of the gold sand color platinum which silver or black finishes but as has so long been the story with Microsoft you can't mix and match every specification with every color or indeed size so for example Sapphire and June are 13.8 in colors only still the overall design is fine it works it looks good there's a lot to like here the real story of the Microsoft Surface laptop 7 is that it's Microsoft's latest 4A into pushing arm-based Windows devices and this is not a new story I can personally recall the days when Microsoft insisted that the Surface RT which was also UN based would be an ideal laptop for many which it really really wasn't and that was back in 2012 and look as such while Microsoft's claims around performance for the Snapdragon X+ and Snapdragon X Elite chips were quite bold as were the claims that 90% of the app runtime for Windows 11 users would be covered either by native arm versions or the new prism emulator for existing x86 code let's just say I had my doubts because Microsoft's made these claims before and more than once but the reality for users of these machines has often been a frustrating one with apps that ran slowly or not at all in some cases it's also worth noting that the model that Microsoft sent my way specifically was a 15-in surface laptop 7 with a Snapdragon X Elite 12 core CPU 32 G of RAM and a 1 TB SSD quite the mey combination and one that would cost you some $3,699 Australian it's the high-end play for this particular laptop and the one that should in theory have the fewest application or speed issues to speak of so what's the reality of using it like well it depends in a straight line Benchmark sense it kicked out a score of 10,120 in PC Mark 10 well ahead of many laptops I've tested with that particular Benchmark including a bunch of gaming laptops throw it however towards a graphics Benchmark and you get less impressive results with 3D Mark time spy recording a considerably less impressive score of 1,787 and that does point to the surface laptop as being more of an office product it machine than a creative productivity Workhorse particularly but then there's the question of the actual apps that you use not surprisingly office apps run well but then they've been native armed for some years now it's a considerably more mixed Story Once you step outside the Microsoft World although it is improving Adobe for example has much of its Creative Suite of apps on board although not be some apps such as premere are outright unable to run right now web apps will run because well web apps but some of the add-ons for them won't so as an example I can access Google Drive via a web browser works just fine but the Google Drive application for Windows 11 doesn't support arm at all and part of the challenge here of course is there are millions of Windows applications and there's this kind of weird gamble you got to take trying to work out whether or not something has an ARM version if you can download the arm version and if not if the x86 version is actually going to run run so for example while it's not a gaming machine per se I just couldn't help seeing how well the Snapdragon X Elite would stand up to a little gaming action and again it depends now to be clear this isn't gaming machine and nothing's really going to run at the level you would see on a good gaming laptop no surprise at all but again I found myself in experimental territory some titles ran acceptably well enough others lagged some loaded to just black screen that went no further at all was a real mixed bag and kind of emblematic of some of the challenges that I did face with this particular laptop and sure gaming almost certainly isn't the priority for buyers of this laptop but that kind of performance doesn't B particularly well if your workflow involves anything likely to push the GPU all that hard and then there's a whole inclusion of copal plus and this is meant to be the big selling point for these new so far Arm based machines and look I've got to be honest I'm just not that thrilled with what's on offer here I mean to give an example on device translation look it's a neat enough feature and I do get that for some business functions the idea that your conversations with your foreign language business partners might have to fly up to the aure cloud if you weren't using on device yeah I get that that's a thing but the translations it provides on device can still be surprisingly janky so testing with some simple and midc complexity Japanese to English translations uncovered some pretty basic grammar errors and a few outright hilarious translations for when I threw some actual Japanese TV dialogue at it as with services like Google translate you could probably get by without actually causing offense to anyone but this is not a magical AI Le Babel Fish just yet it's a sort of maybe good enough tool but again I'm not seeing a huge Improvement here sending this stuff to the cloud unless you had security concerns wouldn't cover anyway and it's kind of the same story when we come to co-creator for images because what it produces is very similar and about the same speed as the kinds of image generation you can get from webbased Services right now I mean I guess it's okay enough for very basic illustrations and some interesting software engineering in the background of course going on there but I still feel like it's a feature that few people really need so much as a feature that makes the system itself look kind of shiny and interesting oh look you can do this thing yes but when are you going to actually do that and then we come to recall and I have not to be clear been able to test out recall and I'm perfectly fine with that because honestly recall just feels like the biggest privacy nightmare possible to me I I really think it's not a great idea and I'm someone who likes the idea of searchable indexes and I absolutely support the idea of people back out their data and having it available to them as easily as possible but this particular implementation Microsoft I'm not buying had it been here I would have tested it to make sure it worked and then I would have disabled it almost immediately and once it does come down the pipeline once Microsoft has worked out ways that it can sell it as being a little bit more secure and a little bit less of a privacy nightmare I'm probably still going to do exactly the same thing I just don't want my screen screenshotted like that ever then we come to the battery and look one of the big reasons you might want to change to arm is for battery efficiency that's long been the sales pitch for Arm based window systems that they got better better battery life and in my handson with both the Surface Pro 11 and surface laptop 7 Microsoft rather pointedly showed off a demo of a battery test showing the surface laptop 7 rather handily beating an Apple MacBook Air M3 in a straight line battery test impressive stuff but would it play out in real world independent testing I had to find out and the answer is maybe and yeah I know that's not super definitive nowhere near as definitive as I'd like it to be but the issue is the standard way that I test batteries on Windows laptops doesn't apply here for half of my testing so for soft battery testing I run a 1080p looping video test and the surface laptop here did astonishingly well it managed 1, 159 minutes of video run time before it exhausted its battery or to put it directly 25 hours and 9 Minutes way over Microsoft's own claim really impressive stuff there really a new high watermark for laptop battery power efficiency great right well the issue there is yes if that's all you're going to do with this laptop if you're only ever going to run video great yeah it'll run for a good long time what about if you're doing something heavy via Duty and here typically what I tend to use is PC marks gaming battery test no this isn't a gaming laptop but I use that test because it's a really good brutal test it's it's the other end of the scale if you will it's the if I push this machine hard how much can I get because these are Workhorse machines you are probably going to want to push them hard at some point and the problem here is that the Arm based version of PC Mark 10 does not include the gaming battery test it just simply will not run the best I could do there was actually game on this thing yes this is a hard job sometimes but I digress the best I could do was actually game on this thing for as long as I could until the battery was exhausted which gave me a rough sort of figure of about 2 hours now that's a huge Gulf in performance and it's one where I suspected it will come down to of course to the applications you're using if this is your desktop Excel or word machine for example yet you'll be up in those higher figures but if you're doing anything that's more seriously number crunching or using those AI features cuz while the mpu here is powerful it is going to use power if you use it a lot you might not get through a full workking day it's a little hard to tell and ultimately it's really mixed I think this has done really well obviously on that video test and I can't ignore that but it's heavy duty performance even anecdotally is not anywhere near a superb and that's probably where you'd want to really see the higher gains and it's also of course where that comparison with the MacBook Air M3 becomes a really interesting one because that's a system where I can get a slightly better battery life figure for heavy duty reps I mean not days and days and days or anything like that but slightly better and one where you don't quite have that same windows on arm versus Mac OS on arm because that's what Apple silicon is issues the the Rosetta emulator that Apple has actually runs pretty much everything where the prism emulator runs only some things at the time of recording hopefully that will get better and prism certainly is a better emulator than Microsoft has had in the past this is a more capable windows on our machine for sure when it comes time to recharge the surfice laptop 7 you got the choice of the inbox charger with the classic surface connector or USBC and look I absolutely favorite USB we see here the surface connector just always seems to fall out it seems like I only have to look at the thing and it goes yeah I'll just pop out and not charge because you looked at me funny I'm not a big fan of that particular design so should you buy these surface laptop 7 well it's an interesting Prospect without a shadow of doubt this is the best Windows on arm machine I've ever tested it is more powerful it is more capable the battery life is ultimately mostly better all of those are big pluses I don't see the copilot plus features as being a big inducement for most people right now unless you've got some very specific needs in those spaces for on device AI I think they're more of a distraction than a really useful set of features and there are still issues with running some windows applications on arm as to whether or not they'll run at all or if they'll run in a slightly compromised fashion and at this kind of price especially for this particular machine I don't think you really should be looking at those kind of compromises if you spent three and a half Grand on a Windows laptop running a classic x86 architecture and Intel or AMD processor you really genuinely wouldn't expect any of that kind of slowdown so getting it here is still disappointing and of course you've still got to play in that experimental space as to whether or not the apps that you actually need every day they are absolutely going to run anyway that's my take on the surface laptop 7 got any questions or comments hit me up below and as always thanks for watching all the way through to the end and don't forget to hit like And subscribe [Music]\"}]"
      ]
     },
     "execution_count": 39,
     "metadata": {},
     "output_type": "execute_result"
    }
   ],
   "source": [
    "youtube_api_data = YouTubeAPIData(youtube_api_key)\n",
    "youtube_api_data.fetch_youtube_data(\"Surface Laptop 7 Review\", filtered_strings=[\"VS\", \"vs\", \"Vs\"], max_results=12)[0:3] # just showing first 3 values"
   ]
  },
  {
   "cell_type": "code",
   "execution_count": null,
   "metadata": {},
   "outputs": [],
   "source": []
  }
 ],
 "metadata": {
  "kernelspec": {
   "display_name": "TechKnow",
   "language": "python",
   "name": "python3"
  },
  "language_info": {
   "codemirror_mode": {
    "name": "ipython",
    "version": 3
   },
   "file_extension": ".py",
   "mimetype": "text/x-python",
   "name": "python",
   "nbconvert_exporter": "python",
   "pygments_lexer": "ipython3",
   "version": "3.10.14"
  }
 },
 "nbformat": 4,
 "nbformat_minor": 2
}
