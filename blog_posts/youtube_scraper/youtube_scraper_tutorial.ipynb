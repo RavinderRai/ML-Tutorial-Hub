{
 "cells": [
  {
   "cell_type": "markdown",
   "metadata": {},
   "source": [
    "# YouTube Scraper Tutorial\n",
    "\n",
    "In this post, we will cover a quick guide on how to collect closed caption text from YouTube videos. With a dataset of texts like this, you can do sentiment analysis, NER, and more. More specifically, possible use cases might be NER on products, sentiment analysis from YouTube reviews, or text summarization from longer videos or podcasts.\n",
    "\n",
    "To get started, you will need to set up a GCP account and enable the YouTube API. Don't worry, this is completely free. Next install the youtube_transcript_api and googleapiclient packages. Now we can import our packages."
   ]
  },
  {
   "cell_type": "code",
   "execution_count": 17,
   "metadata": {},
   "outputs": [],
   "source": [
    "# all the packages we will need\n",
    "import os\n",
    "from dotenv import load_dotenv\n",
    "from youtube_transcript_api import YouTubeTranscriptApi\n",
    "from googleapiclient.discovery import build"
   ]
  },
  {
   "cell_type": "markdown",
   "metadata": {},
   "source": [
    "Next you'll need your GCP key. You can just paste it here, or create a .env file in the same directory and put it in there - up to you."
   ]
  },
  {
   "cell_type": "code",
   "execution_count": 19,
   "metadata": {},
   "outputs": [],
   "source": [
    "load_dotenv()\n",
    "youtube_api_key = os.getenv('GCP_YOUTUBE_API_KEY')"
   ]
  },
  {
   "cell_type": "markdown",
   "metadata": {},
   "source": [
    "Now let's get to the YouTube API part. First we'll use the imported build function which let's us create an object to interact with specified Google APIs. Obviously we will put YouTube in as an arguement. We'll then use version 3 alongside your API key."
   ]
  },
  {
   "cell_type": "code",
   "execution_count": 20,
   "metadata": {},
   "outputs": [],
   "source": [
    "youtube = build('youtube', 'v3', developerKey=youtube_api_key)"
   ]
  },
  {
   "cell_type": "markdown",
   "metadata": {},
   "source": [
    "To use this youtube object, you'll actualy send in a query, as if you're searching youtube from the search bar as you normally would. We'll actually get the number of top results from this search query, where max_results will specify the exact number of results to get. Also, we'll set it to only search for videos (no playlists, channels, etc.), and also get the id and snippet (snippet contains info like title, description, etc.)."
   ]
  },
  {
   "cell_type": "code",
   "execution_count": 21,
   "metadata": {},
   "outputs": [],
   "source": [
    "search_query = \"Top video games of 2023\"\n",
    "max_results = 5\n",
    "\n",
    "search_response = youtube.search().list(\n",
    "    q=search_query,\n",
    "    type='video',\n",
    "    part='id, snippet',\n",
    "    maxResults=max_results\n",
    ").execute()"
   ]
  },
  {
   "cell_type": "markdown",
   "metadata": {},
   "source": [
    "Now let's explore when this result is. Naturally, it is a list of 5 items, 1 for each result (since we set max results to 5). So let's just look at the first item in the list."
   ]
  },
  {
   "cell_type": "code",
   "execution_count": 24,
   "metadata": {},
   "outputs": [
    {
     "data": {
      "text/plain": [
       "{'kind': 'youtube#searchResult',\n",
       " 'etag': 'cAWTfIz-k4IQLn33ru7_-03bFE8',\n",
       " 'id': {'kind': 'youtube#video', 'videoId': 'sXnoQdA6cYM'},\n",
       " 'snippet': {'publishedAt': '2023-11-23T00:00:32Z',\n",
       "  'channelId': 'UCaWd5_7JhbQBe4dknZhsHJg',\n",
       "  'title': 'Top 10 Best Video Games of 2023',\n",
       "  'description': \"2023 has been another great year for video games! Welcome to WatchMojo, and today we're counting down our picks for the ...\",\n",
       "  'thumbnails': {'default': {'url': 'https://i.ytimg.com/vi/sXnoQdA6cYM/default.jpg',\n",
       "    'width': 120,\n",
       "    'height': 90},\n",
       "   'medium': {'url': 'https://i.ytimg.com/vi/sXnoQdA6cYM/mqdefault.jpg',\n",
       "    'width': 320,\n",
       "    'height': 180},\n",
       "   'high': {'url': 'https://i.ytimg.com/vi/sXnoQdA6cYM/hqdefault.jpg',\n",
       "    'width': 480,\n",
       "    'height': 360}},\n",
       "  'channelTitle': 'WatchMojo.com',\n",
       "  'liveBroadcastContent': 'none',\n",
       "  'publishTime': '2023-11-23T00:00:32Z'}}"
      ]
     },
     "execution_count": 24,
     "metadata": {},
     "output_type": "execute_result"
    }
   ],
   "source": [
    "search_response.get('items', [])[0]"
   ]
  },
  {
   "cell_type": "code",
   "execution_count": 12,
   "metadata": {},
   "outputs": [],
   "source": [
    "class YouTubeReviewData:    \n",
    "    def __init__(self, api_key):\n",
    "        self.api_key = api_key\n",
    "        self.youtube = build('youtube', 'v3', developerKey=api_key)\n",
    "        \n",
    "    def search_videos(self, search_query, max_results=5):\n",
    "        \"\"\"\n",
    "        Search for YouTube videos based on a given query and retrieve additional information including closed captions.\n",
    "\n",
    "        Parameters:\n",
    "        - search_query (str): The search query used to find relevant videos on YouTube.\n",
    "        - max_results (int): The maximum number of videos to retrieve. Defaults to 5.\n",
    "\n",
    "        Returns:\n",
    "        List[dict]: A list of dictionaries, each containing information about a video, including:\n",
    "            - 'video_id' (str): The unique identifier for the video.\n",
    "            - 'title' (str): The title of the video.\n",
    "            - 'video_link' (str): The YouTube link to the video.\n",
    "            - 'channel_name' (str): The name of the channel that uploaded the video.\n",
    "            - 'cc_text' (str): The closed captions text for the video. This is the review text.\n",
    "\n",
    "        Note:\n",
    "        - Videos with titles containing specific strings ('VS', 'vs', 'Vs') are excluded, as they indicate videos that aren't reviews specific to the  \n",
    "        product in the search query.\n",
    "        - The 'cc_text' field may contain an empty string if closed captions are not available.\n",
    "        \"\"\"       \n",
    "        \n",
    "        search_response = self.youtube.search().list(\n",
    "            q=search_query,\n",
    "            type='video',\n",
    "            part='id, snippet',\n",
    "            maxResults=max_results\n",
    "        ).execute()\n",
    "        \n",
    "        \n",
    "        \"\"\" old version\n",
    "        video_ids = [result['id']['videoId'] for result in search_response.get('items', [])]\n",
    "        titles = [result['snippet']['title'] for result in search_response.get('items', [])]\n",
    "        \n",
    "        #any videos with vs in the title means it is not a direct review of the specific headphone, so we will not want those\n",
    "        strings_to_check = [\"VS\", \"vs\", \"Vs\"]\n",
    "        indices_to_remove = [i for i, title in enumerate(titles) if any(s in title for s in strings_to_check)]\n",
    "        # Remove items from the video_ids list using the indices\n",
    "        video_ids = [video_ids[i] for i in range(len(video_ids)) if i not in indices_to_remove]\n",
    "        \"\"\"\n",
    "        \n",
    "        \n",
    "        videos_info = []\n",
    "        for result in search_response.get('items', []):\n",
    "            video_id = result['id']['videoId']\n",
    "            title = result['snippet']['title']\n",
    "            video_link = f'https://www.youtube.com/watch?v={video_id}'\n",
    "            channel_name = result['snippet']['channelTitle']\n",
    "\n",
    "            # Check and remove unwanted titles\n",
    "            strings_to_check = [\"VS\", \"vs\", \"Vs\"]\n",
    "            if not any(s in title for s in strings_to_check):\n",
    "                review_text = self.fetch_captions(video_id)\n",
    "                videos_info.append({\n",
    "                    'video_id': video_id,\n",
    "                    'title': title,\n",
    "                    'video_link': video_link,\n",
    "                    'channel_name': channel_name,\n",
    "                    'review_text': review_text\n",
    "                })\n",
    "\n",
    "        return videos_info\n",
    "    \n",
    "    def fetch_captions(self, video_id):\n",
    "        \"\"\"\n",
    "        Get the closed captions. \n",
    "\n",
    "        Parameters:\n",
    "        - video_id (str): The video id which is obtained in search_videos.\n",
    "        \n",
    "        Returns:\n",
    "        String: Closed caption text of a youtube video\n",
    "        \"\"\"\n",
    "        try:\n",
    "            # Retrieve the transcript for the video\n",
    "            transcript = YouTubeTranscriptApi.get_transcript(video_id)\n",
    "\n",
    "            cc_text = \"\"\n",
    "\n",
    "            # Concatenate the transcript text\n",
    "            for entry in transcript:\n",
    "                cc_text += ' ' + entry['text']\n",
    "                \n",
    "            cc_text = cc_text.replace('\\n', ' ')\n",
    "            return cc_text\n",
    "\n",
    "        except Exception as e:\n",
    "            print(f\"An error occurred: {str(e)}\")\n"
   ]
  },
  {
   "cell_type": "code",
   "execution_count": 16,
   "metadata": {},
   "outputs": [
    {
     "ename": "HttpError",
     "evalue": "<HttpError 403 when requesting https://youtube.googleapis.com/youtube/v3/search?q=Top+ten+laptops&type=video&part=id%2C+snippet&maxResults=5&alt=json returned \"Request had insufficient authentication scopes.\". Details: \"[{'message': 'Insufficient Permission', 'domain': 'global', 'reason': 'insufficientPermissions'}]\">",
     "output_type": "error",
     "traceback": [
      "\u001b[1;31m---------------------------------------------------------------------------\u001b[0m",
      "\u001b[1;31mHttpError\u001b[0m                                 Traceback (most recent call last)",
      "Cell \u001b[1;32mIn[16], line 2\u001b[0m\n\u001b[0;32m      1\u001b[0m youtube_scraper \u001b[38;5;241m=\u001b[39m YouTubeReviewData(youtube_api_key)\n\u001b[1;32m----> 2\u001b[0m \u001b[43myoutube_scraper\u001b[49m\u001b[38;5;241;43m.\u001b[39;49m\u001b[43msearch_videos\u001b[49m\u001b[43m(\u001b[49m\u001b[38;5;124;43m\"\u001b[39;49m\u001b[38;5;124;43mTop ten laptops\u001b[39;49m\u001b[38;5;124;43m\"\u001b[39;49m\u001b[43m)\u001b[49m\n",
      "Cell \u001b[1;32mIn[12], line 33\u001b[0m, in \u001b[0;36mYouTubeReviewData.search_videos\u001b[1;34m(self, search_query, max_results)\u001b[0m\n\u001b[0;32m      6\u001b[0m \u001b[38;5;28;01mdef\u001b[39;00m \u001b[38;5;21msearch_videos\u001b[39m(\u001b[38;5;28mself\u001b[39m, search_query, max_results\u001b[38;5;241m=\u001b[39m\u001b[38;5;241m5\u001b[39m):\n\u001b[0;32m      7\u001b[0m \u001b[38;5;250m    \u001b[39m\u001b[38;5;124;03m\"\"\"\u001b[39;00m\n\u001b[0;32m      8\u001b[0m \u001b[38;5;124;03m    Search for YouTube videos based on a given query and retrieve additional information including closed captions.\u001b[39;00m\n\u001b[0;32m      9\u001b[0m \n\u001b[1;32m   (...)\u001b[0m\n\u001b[0;32m     25\u001b[0m \u001b[38;5;124;03m    - The 'cc_text' field may contain an empty string if closed captions are not available.\u001b[39;00m\n\u001b[0;32m     26\u001b[0m \u001b[38;5;124;03m    \"\"\"\u001b[39;00m       \n\u001b[0;32m     28\u001b[0m     search_response \u001b[38;5;241m=\u001b[39m \u001b[38;5;28;43mself\u001b[39;49m\u001b[38;5;241;43m.\u001b[39;49m\u001b[43myoutube\u001b[49m\u001b[38;5;241;43m.\u001b[39;49m\u001b[43msearch\u001b[49m\u001b[43m(\u001b[49m\u001b[43m)\u001b[49m\u001b[38;5;241;43m.\u001b[39;49m\u001b[43mlist\u001b[49m\u001b[43m(\u001b[49m\n\u001b[0;32m     29\u001b[0m \u001b[43m        \u001b[49m\u001b[43mq\u001b[49m\u001b[38;5;241;43m=\u001b[39;49m\u001b[43msearch_query\u001b[49m\u001b[43m,\u001b[49m\n\u001b[0;32m     30\u001b[0m \u001b[43m        \u001b[49m\u001b[38;5;28;43mtype\u001b[39;49m\u001b[38;5;241;43m=\u001b[39;49m\u001b[38;5;124;43m'\u001b[39;49m\u001b[38;5;124;43mvideo\u001b[39;49m\u001b[38;5;124;43m'\u001b[39;49m\u001b[43m,\u001b[49m\n\u001b[0;32m     31\u001b[0m \u001b[43m        \u001b[49m\u001b[43mpart\u001b[49m\u001b[38;5;241;43m=\u001b[39;49m\u001b[38;5;124;43m'\u001b[39;49m\u001b[38;5;124;43mid, snippet\u001b[39;49m\u001b[38;5;124;43m'\u001b[39;49m\u001b[43m,\u001b[49m\n\u001b[0;32m     32\u001b[0m \u001b[43m        \u001b[49m\u001b[43mmaxResults\u001b[49m\u001b[38;5;241;43m=\u001b[39;49m\u001b[43mmax_results\u001b[49m\n\u001b[1;32m---> 33\u001b[0m \u001b[43m    \u001b[49m\u001b[43m)\u001b[49m\u001b[38;5;241;43m.\u001b[39;49m\u001b[43mexecute\u001b[49m\u001b[43m(\u001b[49m\u001b[43m)\u001b[49m\n\u001b[0;32m     36\u001b[0m \u001b[38;5;250m    \u001b[39m\u001b[38;5;124;03m\"\"\" old version\u001b[39;00m\n\u001b[0;32m     37\u001b[0m \u001b[38;5;124;03m    video_ids = [result['id']['videoId'] for result in search_response.get('items', [])]\u001b[39;00m\n\u001b[0;32m     38\u001b[0m \u001b[38;5;124;03m    titles = [result['snippet']['title'] for result in search_response.get('items', [])]\u001b[39;00m\n\u001b[1;32m   (...)\u001b[0m\n\u001b[0;32m     44\u001b[0m \u001b[38;5;124;03m    video_ids = [video_ids[i] for i in range(len(video_ids)) if i not in indices_to_remove]\u001b[39;00m\n\u001b[0;32m     45\u001b[0m \u001b[38;5;124;03m    \"\"\"\u001b[39;00m\n\u001b[0;32m     48\u001b[0m     videos_info \u001b[38;5;241m=\u001b[39m []\n",
      "File \u001b[1;32mc:\\Users\\RaviB\\anaconda3\\envs\\TechKnow\\lib\\site-packages\\googleapiclient\\_helpers.py:130\u001b[0m, in \u001b[0;36mpositional.<locals>.positional_decorator.<locals>.positional_wrapper\u001b[1;34m(*args, **kwargs)\u001b[0m\n\u001b[0;32m    128\u001b[0m     \u001b[38;5;28;01melif\u001b[39;00m positional_parameters_enforcement \u001b[38;5;241m==\u001b[39m POSITIONAL_WARNING:\n\u001b[0;32m    129\u001b[0m         logger\u001b[38;5;241m.\u001b[39mwarning(message)\n\u001b[1;32m--> 130\u001b[0m \u001b[38;5;28;01mreturn\u001b[39;00m wrapped(\u001b[38;5;241m*\u001b[39margs, \u001b[38;5;241m*\u001b[39m\u001b[38;5;241m*\u001b[39mkwargs)\n",
      "File \u001b[1;32mc:\\Users\\RaviB\\anaconda3\\envs\\TechKnow\\lib\\site-packages\\googleapiclient\\http.py:938\u001b[0m, in \u001b[0;36mHttpRequest.execute\u001b[1;34m(self, http, num_retries)\u001b[0m\n\u001b[0;32m    936\u001b[0m     callback(resp)\n\u001b[0;32m    937\u001b[0m \u001b[38;5;28;01mif\u001b[39;00m resp\u001b[38;5;241m.\u001b[39mstatus \u001b[38;5;241m>\u001b[39m\u001b[38;5;241m=\u001b[39m \u001b[38;5;241m300\u001b[39m:\n\u001b[1;32m--> 938\u001b[0m     \u001b[38;5;28;01mraise\u001b[39;00m HttpError(resp, content, uri\u001b[38;5;241m=\u001b[39m\u001b[38;5;28mself\u001b[39m\u001b[38;5;241m.\u001b[39muri)\n\u001b[0;32m    939\u001b[0m \u001b[38;5;28;01mreturn\u001b[39;00m \u001b[38;5;28mself\u001b[39m\u001b[38;5;241m.\u001b[39mpostproc(resp, content)\n",
      "\u001b[1;31mHttpError\u001b[0m: <HttpError 403 when requesting https://youtube.googleapis.com/youtube/v3/search?q=Top+ten+laptops&type=video&part=id%2C+snippet&maxResults=5&alt=json returned \"Request had insufficient authentication scopes.\". Details: \"[{'message': 'Insufficient Permission', 'domain': 'global', 'reason': 'insufficientPermissions'}]\">"
     ]
    }
   ],
   "source": [
    "youtube_scraper = YouTubeReviewData(youtube_api_key)\n",
    "youtube_scraper.search_videos(\"Top ten laptops\")"
   ]
  },
  {
   "cell_type": "code",
   "execution_count": null,
   "metadata": {},
   "outputs": [],
   "source": []
  }
 ],
 "metadata": {
  "kernelspec": {
   "display_name": "TechKnow",
   "language": "python",
   "name": "python3"
  },
  "language_info": {
   "codemirror_mode": {
    "name": "ipython",
    "version": 3
   },
   "file_extension": ".py",
   "mimetype": "text/x-python",
   "name": "python",
   "nbconvert_exporter": "python",
   "pygments_lexer": "ipython3",
   "version": "3.10.14"
  }
 },
 "nbformat": 4,
 "nbformat_minor": 2
}
