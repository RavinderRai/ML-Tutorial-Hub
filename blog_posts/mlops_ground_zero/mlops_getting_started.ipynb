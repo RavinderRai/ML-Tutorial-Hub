{
 "cells": [
  {
   "cell_type": "markdown",
   "metadata": {},
   "source": [
    "# MLOps Ground Zero\n",
    "\n",
    "The best way to level up as a data scientist now is to upskill in MLOps, and the absolute easiest way to get started with MLOps is to build your data science projects with a code structure that follows MLOps best practices.\n",
    "\n",
    "This looks something like this:\n",
    "\n",
    "![mlops_code_structure](mlops_code_structure.jpg)"
   ]
  },
  {
   "cell_type": "markdown",
   "metadata": {},
   "source": [
    "You're basically seperating out the compenents of everything you do inside a jupyter notebook inside .py files. There's a few benefits to doing it this way:\n",
    "\n",
    "1. **Reproducibility**: makes it easier to trace and track everything so it's clear on how you can reproduce results if needed.\n",
    "2. **Collaboration**: understanding the code base will be clear, which makes collaborating that much more efficient.\n",
    "3. **Maintainability**: similarly, alongside clearer understanding comes an easier time to navigate and debug.\n",
    "4. **Scalability**: once you're ready to go to production, having a structure codebase will make version control and CI/CD straightforward.\n",
    "\n",
    "## Folder Breakdown\n",
    "\n",
    "Now let's go over all of the folders. \n",
    "\n",
    " - **data**: where you'll store all your raw and processed data\n",
    " - **notebooks**: where you'll put notebooks if you still want to use them for exploration, recommend following a naming convention like 01_data_collection\n",
    " - **src**: src stands for source code, and will contain folders for each step of a training pipeline\n",
    "    - **data**: this folder is for data processing scripts. You'll load data, preprocess it, and then store that into the other data folder. Feel free to rename this to something else, like 'processing', so you don't have two 'data' folders\n",
    "    - **models**: this is where you're training scripts will go, and you might want to add a models folder in the root repository to store your final model\n",
    "    - **evaluation**: here you can write scripts to evaluate your trained model and save the evaluation metrics\n",
    "    - **inference**: this is where you'll create inference scripts, to use the final model on unseen data\n",
    "    - **utils**: this folder is for .py files that contain commonly used functions that, and typically has a file with a name like 'common.py' for them\n",
    " - **tests**: the tests folder is for your unit and/or integration tests\n",
    " - **.gitignore**: this is the standard file to add files you don't want git to track\n",
    " - **Dockerfile**: docker is something you can use to ensure consistency across different environments\n",
    " - **requirements.txt**: this file you'll need for the Dockerfile if you use it, but it's good practice to always have this anyway since package versions are often the root of random errors\n",
    "\n",
    " Now that we've gone over this code structure, let's look at a nice way to automatically setup your repository to follow these MLOps best practices. The way this works is you should create a file called template.py, and paste the below code into it. Then just run it."
   ]
  },
  {
   "cell_type": "code",
   "execution_count": null,
   "metadata": {},
   "outputs": [],
   "source": [
    "import os\n",
    "from pathlib import Path\n",
    "import logging\n",
    "\n",
    "logging.basicConfig(level=logging.INFO, format='[%(asctime)s]: %(message)s:')\n",
    "\n",
    "project_name = \"mlops_ground_zero\"\n",
    "\n",
    "list_of_files = [\n",
    "    \"data/.gitkeep\",\n",
    "    \"notebooks/.gitkeep\",\n",
    "    \"src/data/.gitkeep\",\n",
    "    \"src/models/.gitkeep\",\n",
    "    \"src/evaluation/.gitkeep\",\n",
    "    \"src/inference/.gitkeep\",\n",
    "    \"src/utils/.gitkeep\",\n",
    "    \"tests/.gitkeep\",\n",
    "    \".gitignore\",\n",
    "    \"README.md\",\n",
    "    \"Dockerfile\",\n",
    "    \"requirements.txt\"\n",
    "]\n",
    "\n",
    "for filepath in list_of_files:\n",
    "    filepath = Path(filepath)\n",
    "    filedir, filename = os.path.split(filepath)\n",
    "\n",
    "    if filedir !=\"\":\n",
    "        os.makedirs(filedir, exist_ok=True)\n",
    "        logging.info(f\"Creating directory; {filedir} for the file: {filename}\")\n",
    "\n",
    "    if (not os.path.exists(filepath)) or (os.path.getsize(filepath) == 0):\n",
    "        with open(filepath, \"w\") as f:\n",
    "            pass\n",
    "            logging.info(f\"Creating empty file: {filepath}\")\n",
    "    else:\n",
    "        logging.info(f\"{filename} already exists\")"
   ]
  },
  {
   "cell_type": "markdown",
   "metadata": {},
   "source": [
    "The way it works is you define your path files according to the code structure above, and then iteratively go through each file and check if it exists. If it does, then do nothing, otherwise create the folder. Unfortunately, we can't create empty folders like this, as GitHub won't track them, but by adding .gitkeep files to each folder you can get around this (.gitkeep tells GitHub to track the folder regardless).\n",
    "\n",
    "And that's it - simplest and most straightforward way to keep MLOps in mind. You might want to make some small adjustments to the repository structure, but the important thing is to follow a structure like this, rather than staying a a few Jupyter Notebooks. Also, there's much more to this of course - most important thing not covered here is probably tracking model training experiments, for which I'd recommend looking into mlflow as that's the standard and easiest thing to implement next."
   ]
  }
 ],
 "metadata": {
  "language_info": {
   "name": "python"
  }
 },
 "nbformat": 4,
 "nbformat_minor": 2
}
